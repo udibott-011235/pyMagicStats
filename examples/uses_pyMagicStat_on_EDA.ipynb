{
 "cells": [
  {
   "cell_type": "markdown",
   "metadata": {},
   "source": [
    "<h1>Proof of Case & Use pyMagicStat-Alpha V 0.02</h1>"
   ]
  },
  {
   "cell_type": "code",
   "execution_count": null,
   "metadata": {},
   "outputs": [],
   "source": []
  },
  {
   "cell_type": "code",
   "execution_count": 41,
   "metadata": {},
   "outputs": [],
   "source": [
    "import sys\n",
    "import shutil\n",
    "import os\n",
    "\n",
    "# Ruta del paquete\n",
    "PYMAGICSTAT_PATH = r'C:\\Users\\ehudb\\OneDrive\\Desktop\\pyMagicStat\\pyMagicStat'\n",
    "\n",
    "# Limpiar caché de módulos\n",
    "pycache_path = os.path.join(PYMAGICSTAT_PATH, '__pycache__')\n",
    "if os.path.exists(pycache_path):\n",
    "    shutil.rmtree(pycache_path)\n",
    "\n",
    "# Limpiar módulos cargados previamente\n",
    "MODULES_TO_CLEAR = [mod for mod in sys.modules if mod.startswith(\"pyMagicStat\")]\n",
    "for module in MODULES_TO_CLEAR:\n",
    "    del sys.modules[module]\n",
    "\n",
    "# Asegurar que el path está correcto\n",
    "if PYMAGICSTAT_PATH not in sys.path:\n",
    "    sys.path.append(PYMAGICSTAT_PATH)\n"
   ]
  },
  {
   "cell_type": "code",
   "execution_count": 42,
   "metadata": {},
   "outputs": [
    {
     "name": "stdout",
     "output_type": "stream",
     "text": [
      "No se encontró caché para limpiar.\n"
     ]
    },
    {
     "ename": "ImportError",
     "evalue": "cannot import name 'BootstrapProportionCI' from 'pyMagicStat.Classes.nonParametricHTest' (C:\\Users\\ehudb\\OneDrive\\Desktop\\pyMagicStat\\pyMagicStat\\Classes\\nonParametricHTest.py)",
     "output_type": "error",
     "traceback": [
      "\u001b[1;31m---------------------------------------------------------------------------\u001b[0m",
      "\u001b[1;31mImportError\u001b[0m                               Traceback (most recent call last)",
      "Cell \u001b[1;32mIn[42], line 78\u001b[0m\n\u001b[0;32m     58\u001b[0m \u001b[38;5;28;01mfrom\u001b[39;00m\u001b[38;5;250m \u001b[39m\u001b[38;5;21;01mpyMagicStat\u001b[39;00m\u001b[38;5;21;01m.\u001b[39;00m\u001b[38;5;21;01mClasses\u001b[39;00m\u001b[38;5;21;01m.\u001b[39;00m\u001b[38;5;21;01mconfidence_intervals\u001b[39;00m\u001b[38;5;250m \u001b[39m\u001b[38;5;28;01mimport\u001b[39;00m (\n\u001b[0;32m     59\u001b[0m     ConfidenceIntervals,\n\u001b[0;32m     60\u001b[0m     NormalDistConfidenceIntervals,\n\u001b[1;32m   (...)\u001b[0m\n\u001b[0;32m     64\u001b[0m     \n\u001b[0;32m     65\u001b[0m )\n\u001b[0;32m     66\u001b[0m \u001b[38;5;28;01mfrom\u001b[39;00m\u001b[38;5;250m \u001b[39m\u001b[38;5;21;01mpyMagicStat\u001b[39;00m\u001b[38;5;21;01m.\u001b[39;00m\u001b[38;5;21;01mClasses\u001b[39;00m\u001b[38;5;21;01m.\u001b[39;00m\u001b[38;5;21;01mdistributions\u001b[39;00m\u001b[38;5;250m \u001b[39m\u001b[38;5;28;01mimport\u001b[39;00m (\n\u001b[0;32m     67\u001b[0m     \n\u001b[0;32m     68\u001b[0m     Distribution,\n\u001b[1;32m   (...)\u001b[0m\n\u001b[0;32m     75\u001b[0m     DiscreteDistributionValidator\n\u001b[0;32m     76\u001b[0m )\n\u001b[1;32m---> 78\u001b[0m \u001b[38;5;28;01mfrom\u001b[39;00m\u001b[38;5;250m \u001b[39m\u001b[38;5;21;01mpyMagicStat\u001b[39;00m\u001b[38;5;21;01m.\u001b[39;00m\u001b[38;5;21;01mClasses\u001b[39;00m\u001b[38;5;21;01m.\u001b[39;00m\u001b[38;5;21;01mnonParametricHTest\u001b[39;00m\u001b[38;5;250m \u001b[39m\u001b[38;5;28;01mimport\u001b[39;00m (\n\u001b[0;32m     79\u001b[0m     BootstrapConfidenceIntervals,\n\u001b[0;32m     80\u001b[0m     BootstrapMeanCI,\n\u001b[0;32m     81\u001b[0m     BootstrapMedianCI,\n\u001b[0;32m     82\u001b[0m     BootstrapVarianceCI,\n\u001b[0;32m     83\u001b[0m     BootstrapProportionCI,\n\u001b[0;32m     84\u001b[0m     NonParametricHTest\n\u001b[0;32m     85\u001b[0m )\n\u001b[0;32m     87\u001b[0m \u001b[38;5;28;01mfrom\u001b[39;00m\u001b[38;5;250m \u001b[39m\u001b[38;5;21;01mpyMagicStat\u001b[39;00m\u001b[38;5;21;01m.\u001b[39;00m\u001b[38;5;21;01mlib\u001b[39;00m\u001b[38;5;21;01m.\u001b[39;00m\u001b[38;5;21;01mutils\u001b[39;00m\u001b[38;5;250m \u001b[39m\u001b[38;5;28;01mimport\u001b[39;00m output_format, validate_non_nan\n\u001b[0;32m     90\u001b[0m \u001b[38;5;66;03m# Validación del entorno\u001b[39;00m\n",
      "\u001b[1;31mImportError\u001b[0m: cannot import name 'BootstrapProportionCI' from 'pyMagicStat.Classes.nonParametricHTest' (C:\\Users\\ehudb\\OneDrive\\Desktop\\pyMagicStat\\pyMagicStat\\Classes\\nonParametricHTest.py)"
     ]
    }
   ],
   "source": [
    "# Configuración inicial para cargar el proyecto y limpiar la caché\n",
    "import sys\n",
    "import os\n",
    "from importlib import reload\n",
    "import shutil\n",
    "import numpy as np\n",
    "from scipy import stats\n",
    "import matplotlib.pyplot as plt\n",
    "\n",
    "# Ruta al directorio raíz del proyecto\n",
    "PROJECT_ROOT = r'C:\\Users\\ehudb\\OneDrive\\Desktop\\pyMagicStat\\pyMagicStat'\n",
    "\n",
    "# Asegurarse de que el proyecto está en sys.path\n",
    "if PROJECT_ROOT not in sys.path:\n",
    "    sys.path.append(PROJECT_ROOT)\n",
    "\n",
    "# Ruta al directorio pyMagicStat\n",
    "PYMAGICSTAT_PATH = os.path.join(PROJECT_ROOT, 'pyMagicStat')\n",
    "\n",
    "# Limpiar caché de módulos\n",
    "def clean_pycache():\n",
    "    pycache_path = os.path.join(PYMAGICSTAT_PATH, '__pycache__')\n",
    "    if os.path.exists(pycache_path):\n",
    "        shutil.rmtree(pycache_path)\n",
    "        print(f\"Eliminado caché en: {pycache_path}\")\n",
    "    else:\n",
    "        print(\"No se encontró caché para limpiar.\")\n",
    "\n",
    "clean_pycache()\n",
    "\n",
    "# Limpiar módulos cargados previamente\n",
    "MODULES_TO_CLEAR = [\n",
    "    \"pyMagicStat.distributions\",\n",
    "    \"pyMagicStat.confidence_intervals\",\n",
    "    \"pyMagicStat.utils\",\n",
    "    \"pyMagicStat.distributionOrchestrator\",\n",
    "    \"pyMagicStat.nonParametricHTest\"\n",
    "]\n",
    "\n",
    "for module in MODULES_TO_CLEAR:\n",
    "    if module in sys.modules:\n",
    "        del sys.modules[module]\n",
    "\n",
    "# Importar módulos principales\n",
    "import pyMagicStat.lib.utils as utils\n",
    "import pyMagicStat.Classes.confidence_intervals as ci\n",
    "import pyMagicStat.Classes.distributions as dist\n",
    "import pyMagicStat.Classes.nonParametricHTest \n",
    "\n",
    "\n",
    "# Recargar módulos para reflejar cambios\n",
    "reload(ci)\n",
    "reload(dist)\n",
    "reload(utils)\n",
    "\n",
    "\n",
    "# Importar clases específicas necesarias\n",
    "from pyMagicStat.Classes.confidence_intervals import (\n",
    "    ConfidenceIntervals,\n",
    "    NormalDistConfidenceIntervals,\n",
    "    PopulationMeanCI,\n",
    "    PopulationProportionCI,\n",
    "    PopulationVarianceCI,\n",
    "    \n",
    ")\n",
    "from pyMagicStat.Classes.distributions import (\n",
    "    \n",
    "    Distribution,\n",
    "    NormalDistribution,\n",
    "    BinomialDistribution,\n",
    "    PoissonDistribution,\n",
    "    LognormalDistribution,\n",
    "    DistributionValidator,\n",
    "    ContinuousDistributionValidator,\n",
    "    DiscreteDistributionValidator\n",
    ")\n",
    "\n",
    "from pyMagicStat.Classes.nonParametricHTest import (\n",
    "    BootstrapConfidenceIntervals,\n",
    "    BootstrapMeanCI,\n",
    "    BootstrapMedianCI,\n",
    "    BootstrapVarianceCI,\n",
    "    BootstrapProportionCI,\n",
    "    NonParametricHTest\n",
    ")\n",
    "\n",
    "from pyMagicStat.lib.utils import output_format, validate_non_nan\n",
    " \n",
    "\n",
    "# Validación del entorno\n",
    "print(\"Módulos pyMagicStat cargados y listos para usar.\")\n"
   ]
  },
  {
   "cell_type": "code",
   "execution_count": 7,
   "metadata": {},
   "outputs": [
    {
     "name": "stdout",
     "output_type": "stream",
     "text": [
      "['C:\\\\Users\\\\ehudb\\\\OneDrive\\\\Desktop\\\\pyMagicStat', 'C:\\\\Program Files\\\\WindowsApps\\\\PythonSoftwareFoundation.Python.3.13_3.13.752.0_x64__qbz5n2kfra8p0\\\\python313.zip', 'C:\\\\Program Files\\\\WindowsApps\\\\PythonSoftwareFoundation.Python.3.13_3.13.752.0_x64__qbz5n2kfra8p0\\\\DLLs', 'C:\\\\Program Files\\\\WindowsApps\\\\PythonSoftwareFoundation.Python.3.13_3.13.752.0_x64__qbz5n2kfra8p0\\\\Lib', 'C:\\\\Program Files\\\\WindowsApps\\\\PythonSoftwareFoundation.Python.3.13_3.13.752.0_x64__qbz5n2kfra8p0', '', 'C:\\\\Users\\\\ehudb\\\\AppData\\\\Local\\\\Packages\\\\PythonSoftwareFoundation.Python.3.13_qbz5n2kfra8p0\\\\LocalCache\\\\local-packages\\\\Python313\\\\site-packages', 'C:\\\\Users\\\\ehudb\\\\AppData\\\\Local\\\\Packages\\\\PythonSoftwareFoundation.Python.3.13_qbz5n2kfra8p0\\\\LocalCache\\\\local-packages\\\\Python313\\\\site-packages\\\\win32', 'C:\\\\Users\\\\ehudb\\\\AppData\\\\Local\\\\Packages\\\\PythonSoftwareFoundation.Python.3.13_qbz5n2kfra8p0\\\\LocalCache\\\\local-packages\\\\Python313\\\\site-packages\\\\win32\\\\lib', 'C:\\\\Users\\\\ehudb\\\\AppData\\\\Local\\\\Packages\\\\PythonSoftwareFoundation.Python.3.13_qbz5n2kfra8p0\\\\LocalCache\\\\local-packages\\\\Python313\\\\site-packages\\\\Pythonwin', 'C:\\\\Program Files\\\\WindowsApps\\\\PythonSoftwareFoundation.Python.3.13_3.13.752.0_x64__qbz5n2kfra8p0\\\\Lib\\\\site-packages', 'C:\\\\Users\\\\ehudb\\\\OneDrive\\\\Desktop\\\\pyMagicStat\\\\pyMagicStat']\n"
     ]
    }
   ],
   "source": [
    "import sys\n",
    "print(sys.path)"
   ]
  },
  {
   "cell_type": "code",
   "execution_count": 7,
   "metadata": {},
   "outputs": [],
   "source": [
    "\n",
    "\n",
    "def normal_ci_mean(data, confidence=0.95):\n",
    "    n = len(data)\n",
    "    mean = np.mean(data)\n",
    "    stderr = np.std(data, ddof=1) / np.sqrt(n)\n",
    "    margin = stderr * stats.t.ppf((1 + confidence) / 2., n-1)\n",
    "    return mean - margin, mean + margin\n",
    "\n",
    "def bootstrap_ci(data, func=np.mean, confidence=0.95, n_bootstraps=1000):\n",
    "    bootstraps = np.random.choice(data, (n_bootstraps, len(data)), replace=True)\n",
    "    stat = np.array([func(sample) for sample in bootstraps])\n",
    "    lower = np.percentile(stat, (1-confidence)/2*100)\n",
    "    upper = np.percentile(stat, (1+confidence)/2*100)\n",
    "    return lower, upper\n",
    "\n",
    "def audit_precision(data, n_bootstraps=1000, confidence=0.95):\n",
    "    results = {\n",
    "        'mean': {'normal': {}, 'bootstrap': {}},\n",
    "        'variance': {'normal': {}, 'bootstrap': {}},\n",
    "        'proportion': {'normal': {}, 'bootstrap': {}},\n",
    "        'median': {'normal': {}, 'bootstrap': {}}\n",
    "    }\n",
    "    \n",
    "    # Media\n",
    "    results['mean']['normal']['ci'] = normal_ci_mean(data, confidence)\n",
    "    results['mean']['bootstrap']['ci'] = bootstrap_ci(data, np.mean, confidence, n_bootstraps)\n",
    "    results['mean']['actual'] = np.mean(data)\n",
    "    \n",
    "    # Varianza\n",
    "    variance_normal = np.var(data, ddof=1)\n",
    "    ci_variance = (variance_normal - 1.96*np.sqrt(2*variance_normal**2/(len(data)-1)),\n",
    "                   variance_normal + 1.96*np.sqrt(2*variance_normal**2/(len(data)-1)))\n",
    "    results['variance']['normal']['ci'] = ci_variance\n",
    "    results['variance']['bootstrap']['ci'] = bootstrap_ci(data, np.var, confidence, n_bootstraps)\n",
    "    results['variance']['actual'] = variance_normal\n",
    "    \n",
    "    # Proporción Poblacional\n",
    "    prop = np.mean(data > 0)\n",
    "    n = len(data)\n",
    "    se_prop = np.sqrt(prop * (1 - prop) / n)\n",
    "    z_score = stats.norm.ppf(1 - (1 - confidence) / 2)\n",
    "    ci_prop = (prop - z_score * se_prop, prop + z_score * se_prop)\n",
    "    results['proportion']['normal']['ci'] = ci_prop\n",
    "    results['proportion']['bootstrap']['ci'] = bootstrap_ci(data, lambda x: np.mean(x > 0), confidence, n_bootstraps)\n",
    "    results['proportion']['actual'] = prop\n",
    "    \n",
    "    # Mediana\n",
    "    results['median']['normal']['ci'] = (np.median(data) - 1.96 * np.std(data) / np.sqrt(len(data)),\n",
    "                                         np.median(data) + 1.96 * np.std(data) / np.sqrt(len(data)))\n",
    "    results['median']['bootstrap']['ci'] = bootstrap_ci(data, np.median, confidence, n_bootstraps)\n",
    "    results['median']['actual'] = np.median(data)\n",
    "    \n",
    "    return results\n",
    "\n",
    "# Generación de datos para diferentes distribuciones\n",
    "\n",
    "\n"
   ]
  },
  {
   "cell_type": "code",
   "execution_count": null,
   "metadata": {},
   "outputs": [],
   "source": []
  },
  {
   "cell_type": "markdown",
   "metadata": {},
   "source": [
    "<h3>Lognormal hay que solucionar la falta de presicion en la aproximacion a la normal.</h3>"
   ]
  },
  {
   "cell_type": "code",
   "execution_count": null,
   "metadata": {},
   "outputs": [
    {
     "data": {
      "text/plain": [
       "{'Binomial': {'Fit': np.True_,\n",
       "  'Normal_approx': np.False_,\n",
       "  'Methods': {'Test': 'Likelihod ratio (G2) test',\n",
       "   'p_value': np.float64(0.36997917758607257),\n",
       "   'chi_stat': np.float64(4.275689443113805),\n",
       "   'p_hat': np.float64(0.50212)}}}"
      ]
     },
     "execution_count": 8,
     "metadata": {},
     "output_type": "execute_result"
    }
   ],
   "source": [
    "z.type"
   ]
  },
  {
   "cell_type": "markdown",
   "metadata": {},
   "source": [
    "<h1>Esta Salida solo debe mostrar pruebas positivas de distribucion</h1>"
   ]
  },
  {
   "cell_type": "markdown",
   "metadata": {},
   "source": [
    "generar una funcion con el bloque anterior para que valide cada una de las instancias de binomial y se cierra ese modulo"
   ]
  },
  {
   "cell_type": "markdown",
   "metadata": {},
   "source": [
    "<H3>Poisson Distribution</H3>"
   ]
  },
  {
   "cell_type": "code",
   "execution_count": null,
   "metadata": {},
   "outputs": [
    {
     "name": "stdout",
     "output_type": "stream",
     "text": [
      "{'Poisson': {'Fit': np.True_, 'Normal_approx': np.False_, 'Methods': {'Test': 'Chi-square test', 'p_value': np.float64(0.2297729552899393), 'chi_stat': np.float64(12.892002103652466)}}}\n",
      "{'Poisson': {'Fit': np.True_, 'Normal_approx': np.False_, 'Methods': {'Test': 'Chi-square test', 'p_value': np.float64(0.2835326516044533), 'chi_stat': np.float64(41.427897584543175)}}}\n",
      "Poisson con aproximación a normal:\n"
     ]
    }
   ],
   "source": [
    "# Poisson sin aproximación a normal\n",
    "poisson_no_normal = np.random.poisson(lam=2, size=5000)\n",
    "#poisson_no_normal_results = audit_precision(poisson_no_normal)\n",
    "#print(\"Poisson sin aproximación a normal:\")\n",
    "#print(poisson_no_normal_results)\n",
    "m_0 = PoissonDistribution(poisson_no_normal)\n",
    "m_0.fit_test()\n",
    "m_0.normal_approximation()\n",
    "print(m_0.type)\n",
    "\n",
    "# Poisson con aproximación a normal\n",
    "poisson_normal_approx = np.random.poisson(lam=30, size=5000)\n",
    "n_0 = PoissonDistribution(poisson_normal_approx)\n",
    "n_0.fit_test()\n",
    "n_0.normal_approximation()\n",
    "print(n_0.type)\n",
    "\n",
    "print(\"Poisson con aproximación a normal:\")\n"
   ]
  },
  {
   "cell_type": "markdown",
   "metadata": {},
   "source": [
    "<h3>Poisson trabajar approx a normalidad </h3>"
   ]
  },
  {
   "cell_type": "code",
   "execution_count": null,
   "metadata": {},
   "outputs": [],
   "source": [
    "# Generar datos de prueba\n",
    "data_normal = np.random.normal(loc=0, scale=1, size=1000)\n",
    "data_binomial = np.random.binomial(n=10, p=0.5, size=1000)\n",
    "data_poisson = np.random.poisson(lam=5, size=1000)\n",
    "data_lognormal = np.random.lognormal(mean=0, sigma=1, size=1000)\n"
   ]
  },
  {
   "cell_type": "code",
   "execution_count": null,
   "metadata": {},
   "outputs": [
    {
     "data": {
      "image/png": "[encoded data removed]",
      "text/plain": [
       "<Figure size 1500x1000 with 4 Axes>"
      ]
     },
     "metadata": {},
     "output_type": "display_data"
    }
   ],
   "source": [
    "# Visualizar las distribuciones generadas\n",
    "plt.figure(figsize=(15, 10))\n",
    "\n",
    "plt.subplot(2, 2, 1)\n",
    "plt.hist(data_normal, bins=30, density=True, alpha=0.6, color='g')\n",
    "plt.title('Normal Distribution')\n",
    "\n",
    "plt.subplot(2, 2, 2)\n",
    "plt.hist(data_binomial, bins=30, density=True, alpha=0.6, color='b')\n",
    "plt.title('Binomial Distribution')\n",
    "\n",
    "plt.subplot(2, 2, 3)\n",
    "plt.hist(data_poisson, bins=30, density=True, alpha=0.6, color='r')\n",
    "plt.title('Poisson Distribution')\n",
    "\n",
    "plt.subplot(2, 2, 4)\n",
    "plt.hist(data_lognormal, bins=30, density=True, alpha=0.6, color='y')\n",
    "plt.title('Lognormal Distribution')\n",
    "\n",
    "plt.tight_layout()\n",
    "plt.show()\n"
   ]
  },
  {
   "cell_type": "code",
   "execution_count": null,
   "metadata": {},
   "outputs": [],
   "source": [
    "# Visualizar las distribuciones generadas\n",
    "plt.figure(figsize=(15, 10))\n",
    "\n",
    "plt.subplot(2, 2, 1)\n",
    "plt.hist(data_normal, bins=30, density=True, alpha=0.6, color='g')\n",
    "plt.title('Normal Distribution')\n",
    "\n",
    "plt.subplot(2, 2, 2)\n",
    "plt.hist(data_binomial, bins=30, density=True, alpha=0.6, color='b')\n",
    "plt.title('Binomial Distribution')\n",
    "\n",
    "plt.subplot(2, 2, 3)\n",
    "plt.hist(data_poisson, bins=30, density=True, alpha=0.6, color='r')\n",
    "plt.title('Poisson Distribution')\n",
    "\n",
    "plt.subplot(2, 2, 4)\n",
    "plt.hist(data_lognormal, bins=30, density=True, alpha=0.6, color='y')\n",
    "plt.title('Lognormal Distribution')\n",
    "\n",
    "plt.tight_layout()\n",
    "plt.show()\n"
   ]
  },
  {
   "cell_type": "code",
   "execution_count": 10,
   "metadata": {},
   "outputs": [
    {
     "data": {
      "image/png": "[encoded data removed]",
      "text/plain": [
       "<Figure size 640x480 with 1 Axes>"
      ]
     },
     "metadata": {},
     "output_type": "display_data"
    }
   ],
   "source": [
    ">>> a, m = 3., 2.  # shape and mode\n",
    ">>> s = (np.random.pareto(a, 1000) + 1) * m\n",
    "#Display the histogram of the samples, along with the probability density function:\n",
    "\n",
    ">>> import matplotlib.pyplot as plt\n",
    ">>> count, bins, _ = plt.hist(s, 100, density=True)\n",
    ">>> fit = a*m**a / bins**(a+1)\n",
    ">>> plt.plot(bins, max(count)*fit/max(fit), linewidth=2, color='r')\n",
    ">>> plt.show()"
   ]
  },
  {
   "cell_type": "code",
   "execution_count": 11,
   "metadata": {},
   "outputs": [
    {
     "name": "stdout",
     "output_type": "stream",
     "text": [
      "{}\n",
      "-0.3696522736371217\n",
      "3.0\n",
      "{'chi2': np.float64(2.84176722956182), 'p_value': np.float64(0.8992439925532346)}\n",
      "False\n",
      "{'Poisson': np.True_, 'goodness_of_fit': {'chi2': np.float64(2.84176722956182), 'p_value': np.float64(0.8992439925532346)}}\n"
     ]
    }
   ],
   "source": [
    "# cambiar nombre de la clase a singular ! Distribution\n",
    "data = Distribution(np.random.poisson(lam=3, size=100))\n",
    "print(data.type)\n",
    "print(data.kurtosis)\n",
    "print(data.median)\n",
    "\n",
    "poisson_test = PoissonDistribution(data)\n",
    "# creo que este metodo deberia llamarse desde el Init y si la funcion da false que rechace la instancia, en test de bondad de ajuste masivos ahorrara estar instanciando inecesariamente \n",
    "poisson_test.validate_data()\n",
    "# no hay criterio unificado , en todas las clases deberiamos llamar nombres de metodos iguales para que sea mas facil de usar .fit_test()\n",
    "print(poisson_test.evaluate_goodness_of_fit())\n",
    "print(poisson_test.evaluate_normal_approximation())\n",
    "print(data.type)\n",
    "\n",
    "# Falta Implementar test de approximacion normal \n",
    "del data"
   ]
  },
  {
   "cell_type": "code",
   "execution_count": 12,
   "metadata": {},
   "outputs": [
    {
     "name": "stdout",
     "output_type": "stream",
     "text": [
      "{}\n",
      "-0.6411506369905182\n",
      "{}\n",
      "{'KS': {'statistic': np.float64(0.055568752620089645), 'p_value': np.float64(0.8999102345010168)}, 'Shapiro': {'statistic': np.float64(0.9815922288286644), 'p_value': np.float64(0.17655001613455068)}, \"D'Agostino\": {'statistic': np.float64(3.4139309290140614), 'p_value': np.float64(0.18141546987004542)}, 'Anderson': {'statistic': np.float64(0.4874893666513884), 'critical_values': [0.555, 0.632, 0.759, 0.885, 1.053], 'significance_levels': [15.0, 10.0, 5.0, 2.5, 1.0]}, 'QQ': {'slope': np.float64(0.9928172501334525), 'intercept': np.float64(0.03491158670390188), 'p_value_slope': np.float64(0.5409097584029574), 'p_value_intercept': np.float64(0.003004070014518412)}}\n",
      "{'KS': 0.2, 'Shapiro': 0.2, \"D'Agostino\": 0.2, 'Anderson': 0.3, 'QQ': 0.1}\n",
      "{'Normal': np.True_, 'normality_results': {'KS': {'statistic': np.float64(0.055568752620089645), 'p_value': np.float64(0.8999102345010168)}, 'Shapiro': {'statistic': np.float64(0.9815922288286644), 'p_value': np.float64(0.17655001613455068)}, \"D'Agostino\": {'statistic': np.float64(3.4139309290140614), 'p_value': np.float64(0.18141546987004542)}, 'Anderson': {'statistic': np.float64(0.4874893666513884), 'critical_values': [0.555, 0.632, 0.759, 0.885, 1.053], 'significance_levels': [15.0, 10.0, 5.0, 2.5, 1.0]}, 'QQ': {'slope': np.float64(0.9928172501334525), 'intercept': np.float64(0.03491158670390188), 'p_value_slope': np.float64(0.5409097584029574), 'p_value_intercept': np.float64(0.003004070014518412)}}}\n"
     ]
    }
   ],
   "source": [
    "data = Distribution(np.random.normal(loc=0, scale=1, size=100))\n",
    "print(data.type)\n",
    "print(data.kurtosis)\n",
    "normal_data = NormalDistribution(data)\n",
    "print(data.type)\n",
    "# unificar nombre de metodo \n",
    "print(normal_data.evaluate_normality())\n",
    "print(normal_data.assign_weights())\n",
    "# demasiada info no necesaria , data.type deberia responder implementando output_format from utils.py\n",
    "print(data.type)\n",
    "\n"
   ]
  },
  {
   "cell_type": "code",
   "execution_count": 13,
   "metadata": {},
   "outputs": [
    {
     "name": "stdout",
     "output_type": "stream",
     "text": [
      "{}\n",
      "{'KS': {'statistic': np.float64(0.04663193643905381), 'p_value': np.float64(0.9744885833452397)}, 'Shapiro': {'statistic': np.float64(0.9926389285911027), 'p_value': np.float64(0.8653540949467418)}, \"D'Agostino\": {'statistic': np.float64(0.47084070426072594), 'p_value': np.float64(0.7902386013234249)}, 'Anderson': {'statistic': np.float64(0.2518311817876224), 'critical_values': [0.555, 0.632, 0.759, 0.885, 1.053], 'significance_levels': [15.0, 10.0, 5.0, 2.5, 1.0]}, 'QQ': {'slope': np.float64(1.0915103899467054), 'intercept': np.float64(0.18239352189576888), 'p_value_slope': np.float64(3.774758283725532e-15), 'p_value_intercept': np.float64(0.0)}}\n",
      "{'KS': 0.2, 'Shapiro': 0.2, \"D'Agostino\": 0.2, 'Anderson': 0.3, 'QQ': 0.1}\n",
      "{'Lognormal': True, 'normality_log_results': {'KS': {'statistic': np.float64(0.04663193643905381), 'p_value': np.float64(0.9744885833452397)}, 'Shapiro': {'statistic': np.float64(0.9926389285911027), 'p_value': np.float64(0.8653540949467418)}, \"D'Agostino\": {'statistic': np.float64(0.47084070426072594), 'p_value': np.float64(0.7902386013234249)}, 'Anderson': {'statistic': np.float64(0.2518311817876224), 'critical_values': [0.555, 0.632, 0.759, 0.885, 1.053], 'significance_levels': [15.0, 10.0, 5.0, 2.5, 1.0]}, 'QQ': {'slope': np.float64(1.0915103899467054), 'intercept': np.float64(0.18239352189576888), 'p_value_slope': np.float64(3.774758283725532e-15), 'p_value_intercept': np.float64(0.0)}}}\n"
     ]
    }
   ],
   "source": [
    "data_lognorm = Distribution(np.random.lognormal(mean=0, sigma=1, size=100))\n",
    "lognorm_data = LognormalDistribution(data_lognorm)\n",
    "print(data_lognorm.type)\n",
    "print(lognorm_data.evaluate_normality())\n",
    "print(lognorm_data.assign_weights())\n",
    "print(data_lognorm.type)\n"
   ]
  },
  {
   "cell_type": "code",
   "execution_count": 14,
   "metadata": {},
   "outputs": [
    {
     "name": "stdout",
     "output_type": "stream",
     "text": [
      "Bootstrap Confidence Interval: {'lb': np.float64(5.988967622935602), 'ub': np.float64(6.000049821431364)}\n",
      "[7.9171473  5.9903546  5.51035564 ... 6.01380324 6.64773867 6.53515075]\n",
      "5.994474990603419\n",
      "Lower Bound: 5.988967622935602\n",
      "Probabilidad de que 7.5 esté dentro del intervalo: 0.9500\n",
      "###########################################################\n",
      "Bootstrap Confidence Interval: {'lb': np.float64(5.986823575180848), 'ub': np.float64(6.000462174083211)}\n",
      "mediana muestral5.993767035711932\n",
      "#####################################################\n",
      "Bootstrap Confidence Interval: {'lb': np.float64(3.983749256561429), 'ub': np.float64(4.015069865543174)}\n",
      "varianza muestral4.0000215167611115\n",
      "#####################################################\n"
     ]
    }
   ],
   "source": [
    "from pyMagicStat.Classes.nonParametricHTest import BootstrapMeanCI\n",
    "\n",
    "data = np.random.normal(6, 2, 500000)\n",
    "bootstrap_ci = BootstrapMeanCI(data)\n",
    "interval = bootstrap_ci.calculate_interval()\n",
    "print(\"Bootstrap Confidence Interval:\", interval)\n",
    "print(data)\n",
    "print(data.mean())\n",
    "print(f\"Lower Bound: {interval['lb']}\")\n",
    "prob = bootstrap_ci.probability_in_interval(np.median(data))\n",
    "print(f\"Probabilidad de que 7.5 esté dentro del intervalo: {prob:.4f}\")\n",
    "print(\"###########################################################\")\n",
    "boostrapMedian = BootstrapMedianCI(data)\n",
    "interval_median = boostrapMedian.calculate_interval()\n",
    "print(\"Bootstrap Confidence Interval:\", interval_median)\n",
    "print(f\"mediana muestral{np.median(data)}\")\n",
    "\n",
    "print(\"#####################################################\")\n",
    "boostrapVariance = BootstrapVarianceCI(data)\n",
    "interval_variance = boostrapVariance.calculate_interval()\n",
    "print(\"Bootstrap Confidence Interval:\", interval_variance)\n",
    "print(f\"varianza muestral{np.var(data)}\")\n",
    "\n",
    "print(\"#####################################################\")\n"
   ]
  },
  {
   "cell_type": "markdown",
   "metadata": {},
   "source": [
    "<h1>hay que implementar numba ! </h1>"
   ]
  },
  {
   "cell_type": "code",
   "execution_count": 15,
   "metadata": {},
   "outputs": [
    {
     "name": "stdout",
     "output_type": "stream",
     "text": [
      "Tiempo SIN Numba: 7.3954 s\n",
      "Tiempo CON Numba: 2.8131 s\n"
     ]
    }
   ],
   "source": [
    "import numpy as np\n",
    "from numba import jit\n",
    "import time\n",
    "\n",
    "# Simulación de datos\n",
    "data = np.random.normal(6, 2, 100)\n",
    "resamples = 500000\n",
    "\n",
    "# Implementación normal (sin Numba)\n",
    "def bootstrap_normal(data, resamples):\n",
    "    sample_statistics = [np.mean(np.random.choice(data, size=len(data), replace=True)) for _ in range(resamples)]\n",
    "    return sample_statistics\n",
    "\n",
    "# Implementación optimizada con Numba\n",
    "@jit(nopython=True) \n",
    "def bootstrap_numba(data, resamples):\n",
    "    sample_statistics = np.empty(resamples)\n",
    "    n = len(data)\n",
    "    for i in range(resamples):\n",
    "        sample = np.random.choice(data, size=n, replace=True)\n",
    "        sample_statistics[i] = np.mean(sample)\n",
    "    return sample_statistics\n",
    "\n",
    "# Medir tiempos\n",
    "start_time = time.time()\n",
    "bootstrap_normal(data, resamples)\n",
    "print(f\"Tiempo SIN Numba: {time.time() - start_time:.4f} s\")\n",
    "\n",
    "start_time = time.time()\n",
    "bootstrap_numba(data, resamples)\n",
    "print(f\"Tiempo CON Numba: {time.time() - start_time:.4f} s\")\n"
   ]
  },
  {
   "cell_type": "markdown",
   "metadata": {},
   "source": [
    "<h2>NO BORRR IMPORTANTE PARA OFFICE </h2>"
   ]
  },
  {
   "cell_type": "code",
   "execution_count": 1,
   "metadata": {},
   "outputs": [
    {
     "name": "stdout",
     "output_type": "stream",
     "text": [
      "Tamaño original: 98\n",
      "Tamaño después de eliminar outliers: 95\n",
      "Valores filtrados: {np.float64(50.0), np.float64(-30.0), np.float64(100.0)}\n"
     ]
    }
   ],
   "source": [
    "import numpy as np\n",
    "\n",
    "# Simulación de datos con algunos outliers\n",
    "data = np.concatenate([np.random.normal(6, 2, 95), np.array([50, -30, 100])])\n",
    "\n",
    "# Método IQR para eliminar outliers\n",
    "q1, q3 = np.percentile(data, [25, 75])\n",
    "iqr = q3 - q1\n",
    "lower_bound = q1 - 1.5 * iqr\n",
    "upper_bound = q3 + 1.5 * iqr\n",
    "\n",
    "# Filtrar datos sin outliers\n",
    "filtered_data = data[(data >= lower_bound) & (data <= upper_bound)]\n",
    "\n",
    "print(f\"Tamaño original: {len(data)}\")\n",
    "print(f\"Tamaño después de eliminar outliers: {len(filtered_data)}\")\n",
    "print(f\"Valores filtrados: {set(data) - set(filtered_data)}\")\n"
   ]
  },
  {
   "cell_type": "code",
   "execution_count": 48,
   "metadata": {},
   "outputs": [
    {
     "name": "stdout",
     "output_type": "stream",
     "text": [
      "BootstrapMeanCI - Intervalo: [9.9326, 10.0959], Valor Real: 10.0168\n",
      "BootstrapMeanCI - Intervalo: [9.8788, 10.0624], Valor Real: 9.9704\n",
      "BootstrapMeanCI - Intervalo: [9.9435, 10.1119], Valor Real: 10.0317\n",
      "BootstrapMeanCI - Intervalo: [9.9687, 10.1374], Valor Real: 10.0495\n",
      "BootstrapMeanCI - Intervalo: [9.8670, 10.0304], Valor Real: 9.9449\n",
      "BootstrapMeanCI - Intervalo: [9.8937, 10.0617], Valor Real: 9.9803\n",
      "BootstrapMeanCI - Intervalo: [9.8841, 10.0545], Valor Real: 9.9672\n",
      "BootstrapMeanCI - Intervalo: [9.9046, 10.0698], Valor Real: 9.9874\n",
      "BootstrapMeanCI - Intervalo: [9.9740, 10.1388], Valor Real: 10.0539\n",
      "BootstrapMeanCI - Intervalo: [9.8966, 10.0715], Valor Real: 9.9853\n",
      "BootstrapMeanCI - Intervalo: [9.9570, 10.1207], Valor Real: 10.0376\n",
      "BootstrapMeanCI - Intervalo: [9.8864, 10.0542], Valor Real: 9.9729\n",
      "BootstrapMeanCI - Intervalo: [9.9961, 10.1584], Valor Real: 10.0743\n",
      "BootstrapMeanCI - Intervalo: [9.9178, 10.0770], Valor Real: 9.9938\n",
      "BootstrapMeanCI - Intervalo: [9.9056, 10.0705], Valor Real: 9.9864\n",
      "BootstrapMeanCI - Intervalo: [9.9299, 10.0989], Valor Real: 10.0056\n",
      "BootstrapMeanCI - Intervalo: [9.9404, 10.1089], Valor Real: 10.0243\n",
      "BootstrapMeanCI - Intervalo: [9.9257, 10.0888], Valor Real: 10.0066\n",
      "BootstrapMeanCI - Intervalo: [9.9390, 10.0951], Valor Real: 10.0192\n",
      "BootstrapMeanCI - Intervalo: [9.8674, 10.0374], Valor Real: 9.9499\n",
      "BootstrapMeanCI - Intervalo: [9.9128, 10.0867], Valor Real: 9.9946\n",
      "BootstrapMeanCI - Intervalo: [9.9967, 10.1568], Valor Real: 10.0734\n",
      "BootstrapMeanCI - Intervalo: [9.9249, 10.0954], Valor Real: 10.0096\n",
      "BootstrapMeanCI - Intervalo: [9.9336, 10.1047], Valor Real: 10.0198\n",
      "BootstrapMeanCI - Intervalo: [9.8567, 10.0220], Valor Real: 9.9390\n",
      "BootstrapMeanCI - Intervalo: [9.9478, 10.1160], Valor Real: 10.0318\n",
      "BootstrapMeanCI - Intervalo: [9.9249, 10.0911], Valor Real: 10.0087\n",
      "BootstrapMeanCI - Intervalo: [9.9367, 10.1038], Valor Real: 10.0195\n",
      "BootstrapMeanCI - Intervalo: [9.8860, 10.0489], Valor Real: 9.9644\n",
      "BootstrapMeanCI - Intervalo: [9.9629, 10.1327], Valor Real: 10.0463\n",
      "BootstrapMeanCI - Intervalo: [9.9017, 10.0753], Valor Real: 9.9912\n",
      "BootstrapMeanCI - Intervalo: [9.9164, 10.0756], Valor Real: 9.9973\n",
      "BootstrapMeanCI - Intervalo: [9.8647, 10.0355], Valor Real: 9.9535\n",
      "BootstrapMeanCI - Intervalo: [9.9386, 10.1110], Valor Real: 10.0259\n",
      "BootstrapMeanCI - Intervalo: [9.9397, 10.1097], Valor Real: 10.0195\n",
      "BootstrapMeanCI - Intervalo: [9.9744, 10.1411], Valor Real: 10.0532\n",
      "BootstrapMeanCI - Intervalo: [9.8665, 10.0244], Valor Real: 9.9459\n",
      "BootstrapMeanCI - Intervalo: [9.8528, 10.0207], Valor Real: 9.9344\n",
      "BootstrapMeanCI - Intervalo: [9.9557, 10.1293], Valor Real: 10.0411\n",
      "BootstrapMeanCI - Intervalo: [9.9081, 10.0719], Valor Real: 9.9900\n",
      "BootstrapMeanCI - Intervalo: [9.8658, 10.0303], Valor Real: 9.9501\n",
      "BootstrapMeanCI - Intervalo: [9.8928, 10.0587], Valor Real: 9.9763\n",
      "BootstrapMeanCI - Intervalo: [9.9120, 10.0829], Valor Real: 9.9918\n",
      "BootstrapMeanCI - Intervalo: [9.9250, 10.0872], Valor Real: 10.0075\n",
      "BootstrapMeanCI - Intervalo: [9.9703, 10.1316], Valor Real: 10.0490\n",
      "BootstrapMeanCI - Intervalo: [9.9167, 10.0855], Valor Real: 10.0017\n",
      "BootstrapMeanCI - Intervalo: [9.9765, 10.1527], Valor Real: 10.0665\n",
      "BootstrapMeanCI - Intervalo: [9.8798, 10.0473], Valor Real: 9.9638\n",
      "BootstrapMeanCI - Intervalo: [9.8774, 10.0402], Valor Real: 9.9573\n",
      "BootstrapMeanCI - Intervalo: [9.8687, 10.0380], Valor Real: 9.9554\n",
      "BootstrapMeanCI - Intervalo: [9.8949, 10.0685], Valor Real: 9.9821\n",
      "BootstrapMeanCI - Intervalo: [9.9115, 10.0724], Valor Real: 9.9913\n",
      "BootstrapMeanCI - Intervalo: [9.9158, 10.0873], Valor Real: 9.9989\n",
      "BootstrapMeanCI - Intervalo: [9.8826, 10.0353], Valor Real: 9.9609\n",
      "BootstrapMeanCI - Intervalo: [9.9374, 10.0985], Valor Real: 10.0145\n",
      "BootstrapMeanCI - Intervalo: [9.9531, 10.1137], Valor Real: 10.0359\n",
      "BootstrapMeanCI - Intervalo: [9.9633, 10.1268], Valor Real: 10.0489\n",
      "BootstrapMeanCI - Intervalo: [9.8746, 10.0362], Valor Real: 9.9609\n",
      "BootstrapMeanCI - Intervalo: [9.9172, 10.0908], Valor Real: 10.0052\n",
      "BootstrapMeanCI - Intervalo: [9.9089, 10.0722], Valor Real: 9.9914\n",
      "BootstrapMeanCI - Intervalo: [9.8498, 10.0150], Valor Real: 9.9368\n",
      "BootstrapMeanCI - Intervalo: [9.9220, 10.0932], Valor Real: 10.0036\n",
      "BootstrapMeanCI - Intervalo: [9.8097, 9.9771], Valor Real: 9.8905\n",
      "BootstrapMeanCI - Intervalo: [9.8879, 10.0473], Valor Real: 9.9691\n",
      "BootstrapMeanCI - Intervalo: [9.9939, 10.1598], Valor Real: 10.0819\n",
      "BootstrapMeanCI - Intervalo: [9.9268, 10.0928], Valor Real: 10.0100\n",
      "BootstrapMeanCI - Intervalo: [9.9368, 10.0947], Valor Real: 10.0186\n",
      "BootstrapMeanCI - Intervalo: [9.8355, 10.0006], Valor Real: 9.9177\n",
      "BootstrapMeanCI - Intervalo: [9.8688, 10.0308], Valor Real: 9.9496\n",
      "BootstrapMeanCI - Intervalo: [9.9327, 10.0944], Valor Real: 10.0156\n",
      "BootstrapMeanCI - Intervalo: [9.9554, 10.1167], Valor Real: 10.0316\n",
      "BootstrapMeanCI - Intervalo: [9.9380, 10.0904], Valor Real: 10.0168\n",
      "BootstrapMeanCI - Intervalo: [9.9861, 10.1527], Valor Real: 10.0646\n",
      "BootstrapMeanCI - Intervalo: [9.9321, 10.0975], Valor Real: 10.0165\n",
      "BootstrapMeanCI - Intervalo: [9.9302, 10.0914], Valor Real: 10.0060\n",
      "BootstrapMeanCI - Intervalo: [10.0105, 10.1729], Valor Real: 10.0899\n",
      "BootstrapMeanCI - Intervalo: [9.9276, 10.0873], Valor Real: 10.0068\n",
      "BootstrapMeanCI - Intervalo: [9.9406, 10.1116], Valor Real: 10.0264\n",
      "BootstrapMeanCI - Intervalo: [9.9190, 10.0815], Valor Real: 9.9951\n",
      "BootstrapMeanCI - Intervalo: [9.8597, 10.0335], Valor Real: 9.9453\n",
      "BootstrapMeanCI - Intervalo: [9.8319, 9.9991], Valor Real: 9.9138\n",
      "BootstrapMeanCI - Intervalo: [9.9225, 10.0880], Valor Real: 10.0068\n",
      "BootstrapMeanCI - Intervalo: [9.8658, 10.0360], Valor Real: 9.9484\n",
      "BootstrapMeanCI - Intervalo: [9.9322, 10.0920], Valor Real: 10.0109\n",
      "BootstrapMeanCI - Intervalo: [9.9629, 10.1277], Valor Real: 10.0427\n",
      "BootstrapMeanCI - Intervalo: [9.9277, 10.1012], Valor Real: 10.0131\n",
      "BootstrapMeanCI - Intervalo: [9.8901, 10.0539], Valor Real: 9.9743\n",
      "BootstrapMeanCI - Intervalo: [9.9065, 10.0845], Valor Real: 9.9946\n",
      "BootstrapMeanCI - Intervalo: [9.9303, 10.0980], Valor Real: 10.0133\n",
      "BootstrapMeanCI - Intervalo: [9.8417, 10.0028], Valor Real: 9.9159\n",
      "BootstrapMeanCI - Intervalo: [9.9551, 10.1156], Valor Real: 10.0346\n",
      "BootstrapMeanCI - Intervalo: [9.8112, 9.9807], Valor Real: 9.8969\n",
      "BootstrapMeanCI - Intervalo: [9.8904, 10.0530], Valor Real: 9.9736\n",
      "BootstrapMeanCI - Intervalo: [9.9065, 10.0668], Valor Real: 9.9839\n",
      "BootstrapMeanCI - Intervalo: [9.8529, 10.0217], Valor Real: 9.9406\n",
      "BootstrapMeanCI - Intervalo: [9.8786, 10.0467], Valor Real: 9.9664\n",
      "BootstrapMeanCI - Intervalo: [9.9876, 10.1582], Valor Real: 10.0750\n",
      "BootstrapMeanCI - Intervalo: [9.8749, 10.0357], Valor Real: 9.9512\n",
      "BootstrapMeanCI - Intervalo: [9.8921, 10.0508], Valor Real: 9.9719\n",
      "BootstrapMeanCI - Intervalo: [9.9216, 10.0820], Valor Real: 10.0036\n",
      "Precisión de BootstrapMeanCI: 100.00%\n"
     ]
    }
   ],
   "source": [
    "import numpy as np\n",
    "from pyMagicStat.Classes.nonParametricHTest import (\n",
    "    BootstrapMeanCI, \n",
    "    BootstrapMedianCI, \n",
    "    BootstrapVarianceCI\n",
    ")\n",
    "\n",
    "# Configuración de prueba\n",
    "np.random.seed(42)\n",
    "n_samples = 5000\n",
    "n_trials = 100  # Número de veces que repetimos la prueba para medir precisión\n",
    "alpha = 0.05\n",
    "\n",
    "\n",
    "# ---- Evaluar precisión de Bootstrap para la Mediana ----\n",
    "def evaluate_bootstrap_accuracy(BootstrapClass, data_generator, true_statistic, name):\n",
    "    coverage_count = 0  # Número de veces que el valor real cae dentro del intervalo\n",
    "    for _ in range(n_trials):\n",
    "        data = data_generator(n_samples)\n",
    "        bootstrap_ci = BootstrapClass(data, alpha=alpha, resamples=1000)  # Reducir resamples a 1000\n",
    "        interval = bootstrap_ci.calculate_interval()\n",
    "        lb, ub = interval[\"lb\"], interval[\"ub\"]\n",
    "        \n",
    "        print(f\"{name} - Intervalo: [{lb:.4f}, {ub:.4f}], Valor Real: {true_statistic(data):.4f}\")  # Corrección\n",
    "\n",
    "        if lb <= true_statistic(data) <= ub:\n",
    "            coverage_count += 1\n",
    "\n",
    "    accuracy = coverage_count / n_trials\n",
    "    print(f\"Precisión de {name}: {accuracy:.2%}\")\n",
    "\n",
    "evaluate_bootstrap_accuracy(\n",
    "    BootstrapMeanCI, \n",
    "    lambda n: np.random.normal(10, 3, n), \n",
    "    np.mean, \n",
    "    \"BootstrapMeanCI\"\n",
    ")"
   ]
  }
 ],
 "metadata": {
  "kernelspec": {
   "display_name": "Python 3",
   "language": "python",
   "name": "python3"
  },
  "language_info": {
   "codemirror_mode": {
    "name": "ipython",
    "version": 3
   },
   "file_extension": ".py",
   "mimetype": "text/x-python",
   "name": "python",
   "nbconvert_exporter": "python",
   "pygments_lexer": "ipython3",
   "version": "3.13.2"
  }
 },
 "nbformat": 4,
 "nbformat_minor": 2
}

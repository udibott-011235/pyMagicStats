{
 "cells": [
  {
   "cell_type": "markdown",
   "metadata": {},
   "source": [
    "<h1>Proof of Case & Use pyMagicStat-Alpha V 0.02</h1>"
   ]
  },
  {
   "cell_type": "code",
   "execution_count": 151,
   "metadata": {},
   "outputs": [],
   "source": [
    "import sys\n",
    "import shutil\n",
    "import os\n",
    "\n",
    "# Ruta del paquete\n",
    "PYMAGICSTAT_PATH = r'C:\\Users\\ehudb\\OneDrive\\Desktop\\pyMagicStat\\pyMagicStat'\n",
    "\n",
    "# Limpiar caché de módulos\n",
    "pycache_path = os.path.join(PYMAGICSTAT_PATH, '__pycache__')\n",
    "if os.path.exists(pycache_path):\n",
    "    shutil.rmtree(pycache_path)\n",
    "\n",
    "# Limpiar módulos cargados previamente\n",
    "MODULES_TO_CLEAR = [mod for mod in sys.modules if mod.startswith(\"pyMagicStat\")]\n",
    "for module in MODULES_TO_CLEAR:\n",
    "    del sys.modules[module]\n",
    "\n",
    "# Asegurar que el path está correcto\n",
    "if PYMAGICSTAT_PATH not in sys.path:\n",
    "    sys.path.append(PYMAGICSTAT_PATH)\n"
   ]
  },
  {
   "cell_type": "code",
   "execution_count": 152,
   "metadata": {},
   "outputs": [
    {
     "name": "stdout",
     "output_type": "stream",
     "text": [
      "No se encontró caché para limpiar.\n",
      "Módulos pyMagicStat cargados y listos para usar.\n"
     ]
    }
   ],
   "source": [
    "# Configuración inicial para cargar el proyecto y limpiar la caché\n",
    "import sys\n",
    "import os\n",
    "from importlib import reload\n",
    "import shutil\n",
    "import numpy as np\n",
    "from scipy import stats\n",
    "import matplotlib.pyplot as plt\n",
    "\n",
    "# Ruta al directorio raíz del proyecto\n",
    "PROJECT_ROOT = r'C:\\Users\\ehudb\\OneDrive\\Desktop\\pyMagicStat'\n",
    "\n",
    "# Asegurarse de que el proyecto está en sys.path\n",
    "if PROJECT_ROOT not in sys.path:\n",
    "    sys.path.append(PROJECT_ROOT)\n",
    "\n",
    "# Ruta al directorio pyMagicStat\n",
    "PYMAGICSTAT_PATH = os.path.join(PROJECT_ROOT, 'pyMagicStat')\n",
    "\n",
    "# Limpiar caché de módulos\n",
    "def clean_pycache():\n",
    "    pycache_path = os.path.join(PYMAGICSTAT_PATH, '__pycache__')\n",
    "    if os.path.exists(pycache_path):\n",
    "        shutil.rmtree(pycache_path)\n",
    "        print(f\"Eliminado caché en: {pycache_path}\")\n",
    "    else:\n",
    "        print(\"No se encontró caché para limpiar.\")\n",
    "\n",
    "clean_pycache()\n",
    "\n",
    "# Limpiar módulos cargados previamente\n",
    "MODULES_TO_CLEAR = [\n",
    "    \"pyMagicStat.distributions\",\n",
    "    \"pyMagicStat.confidence_intervals\",\n",
    "    \"pyMagicStat.utils\",\n",
    "    \"pyMagicStat.distributionOrchestrator\",\n",
    "]\n",
    "for module in MODULES_TO_CLEAR:\n",
    "    if module in sys.modules:\n",
    "        del sys.modules[module]\n",
    "\n",
    "# Importar módulos principales\n",
    "import pyMagicStat.lib.utils as utils\n",
    "import pyMagicStat.Classes.confidence_intervals as ci\n",
    "import pyMagicStat.Classes.distributions as dist\n",
    "\n",
    "\n",
    "\n",
    "# Recargar módulos para reflejar cambios\n",
    "reload(ci)\n",
    "reload(dist)\n",
    "reload(utils)\n",
    "\n",
    "\n",
    "# Importar clases específicas necesarias\n",
    "from pyMagicStat.Classes.confidence_intervals import (\n",
    "    ConfidenceIntervals,\n",
    "    NormalDistConfidenceIntervals,\n",
    "    PopulationMeanCI,\n",
    "    PopulationProportionCI,\n",
    "    PopulationVarianceCI,\n",
    "    BootstrapConfidenceIntervals,\n",
    "    BootstrapMeanCI,\n",
    "    BootstrapMedianCI,\n",
    "    BootstrapVarianceCI,\n",
    "    BootstrapProportionCI,\n",
    ")\n",
    "from pyMagicStat.Classes.distributions import (\n",
    "    Distribution,\n",
    "    DistributionTest,\n",
    "    NormalDistribution,\n",
    "    BinomialDistribution,\n",
    "    PoissonDistribution,\n",
    "    LognormalDistribution,\n",
    "    GoodnessAndFit\n",
    ")\n",
    "from pyMagicStat.lib.utils import output_format, validate_non_nan\n",
    " \n",
    "\n",
    "# Validación del entorno\n",
    "print(\"Módulos pyMagicStat cargados y listos para usar.\")\n"
   ]
  },
  {
   "cell_type": "code",
   "execution_count": 153,
   "metadata": {},
   "outputs": [
    {
     "name": "stdout",
     "output_type": "stream",
     "text": [
      "pyMagicStat.Classes.distributions\n"
     ]
    }
   ],
   "source": [
    "print(Distribution.__module__)"
   ]
  },
  {
   "cell_type": "code",
   "execution_count": 154,
   "metadata": {},
   "outputs": [],
   "source": [
    "\n",
    "\n",
    "def normal_ci_mean(data, confidence=0.95):\n",
    "    n = len(data)\n",
    "    mean = np.mean(data)\n",
    "    stderr = np.std(data, ddof=1) / np.sqrt(n)\n",
    "    margin = stderr * stats.t.ppf((1 + confidence) / 2., n-1)\n",
    "    return mean - margin, mean + margin\n",
    "\n",
    "def bootstrap_ci(data, func=np.mean, confidence=0.95, n_bootstraps=1000):\n",
    "    bootstraps = np.random.choice(data, (n_bootstraps, len(data)), replace=True)\n",
    "    stat = np.array([func(sample) for sample in bootstraps])\n",
    "    lower = np.percentile(stat, (1-confidence)/2*100)\n",
    "    upper = np.percentile(stat, (1+confidence)/2*100)\n",
    "    return lower, upper\n",
    "\n",
    "def audit_precision(data, n_bootstraps=1000, confidence=0.95):\n",
    "    results = {\n",
    "        'mean': {'normal': {}, 'bootstrap': {}},\n",
    "        'variance': {'normal': {}, 'bootstrap': {}},\n",
    "        'proportion': {'normal': {}, 'bootstrap': {}},\n",
    "        'median': {'normal': {}, 'bootstrap': {}}\n",
    "    }\n",
    "    \n",
    "    # Media\n",
    "    results['mean']['normal']['ci'] = normal_ci_mean(data, confidence)\n",
    "    results['mean']['bootstrap']['ci'] = bootstrap_ci(data, np.mean, confidence, n_bootstraps)\n",
    "    results['mean']['actual'] = np.mean(data)\n",
    "    \n",
    "    # Varianza\n",
    "    variance_normal = np.var(data, ddof=1)\n",
    "    ci_variance = (variance_normal - 1.96*np.sqrt(2*variance_normal**2/(len(data)-1)),\n",
    "                   variance_normal + 1.96*np.sqrt(2*variance_normal**2/(len(data)-1)))\n",
    "    results['variance']['normal']['ci'] = ci_variance\n",
    "    results['variance']['bootstrap']['ci'] = bootstrap_ci(data, np.var, confidence, n_bootstraps)\n",
    "    results['variance']['actual'] = variance_normal\n",
    "    \n",
    "    # Proporción Poblacional\n",
    "    prop = np.mean(data > 0)\n",
    "    n = len(data)\n",
    "    se_prop = np.sqrt(prop * (1 - prop) / n)\n",
    "    z_score = stats.norm.ppf(1 - (1 - confidence) / 2)\n",
    "    ci_prop = (prop - z_score * se_prop, prop + z_score * se_prop)\n",
    "    results['proportion']['normal']['ci'] = ci_prop\n",
    "    results['proportion']['bootstrap']['ci'] = bootstrap_ci(data, lambda x: np.mean(x > 0), confidence, n_bootstraps)\n",
    "    results['proportion']['actual'] = prop\n",
    "    \n",
    "    # Mediana\n",
    "    results['median']['normal']['ci'] = (np.median(data) - 1.96 * np.std(data) / np.sqrt(len(data)),\n",
    "                                         np.median(data) + 1.96 * np.std(data) / np.sqrt(len(data)))\n",
    "    results['median']['bootstrap']['ci'] = bootstrap_ci(data, np.median, confidence, n_bootstraps)\n",
    "    results['median']['actual'] = np.median(data)\n",
    "    \n",
    "    return results\n",
    "\n",
    "# Generación de datos para diferentes distribuciones\n",
    "\n",
    "\n"
   ]
  },
  {
   "cell_type": "code",
   "execution_count": 155,
   "metadata": {},
   "outputs": [
    {
     "name": "stdout",
     "output_type": "stream",
     "text": [
      "lognormal_no_normal\n"
     ]
    },
    {
     "name": "stderr",
     "output_type": "stream",
     "text": [
      "C:\\Users\\ehudb\\OneDrive\\Desktop\\pyMagicStat\\pyMagicStat\\Classes\\distributions.py:592: UserWarning: No valid distributions were found after applying goodness of fit tests.\n",
      "  warnings.warn(\"No valid distributions were found after applying goodness of fit tests.\", UserWarning)\n"
     ]
    },
    {
     "name": "stdout",
     "output_type": "stream",
     "text": [
      "{}\n",
      "{}\n",
      "\n",
      "-------------------------------------------\n",
      "\n",
      "Lognormal con aproximación a normal:\n",
      "{'mean': {'normal': {'ci': (np.float64(0.9996775153419042), np.float64(1.0052427597619904))}, 'bootstrap': {'ci': (np.float64(0.9998310928735926), np.float64(1.0052551497133617))}, 'actual': np.float64(1.0024601375519473)}, 'variance': {'normal': {'ci': (np.float64(0.00967839204976867), np.float64(0.010468218156411108))}, 'bootstrap': {'ci': (np.float64(0.009683433563331588), np.float64(0.010471233990052245))}, 'actual': np.float64(0.010073305103089888)}, 'proportion': {'normal': {'ci': (np.float64(1.0), np.float64(1.0))}, 'bootstrap': {'ci': (np.float64(1.0), np.float64(1.0))}, 'actual': np.float64(1.0)}, 'median': {'normal': {'ci': (np.float64(0.9940256257124214), np.float64(0.9995890684855433))}, 'bootstrap': {'ci': (np.float64(0.9926658541859681), np.float64(0.9999817900403597))}, 'actual': np.float64(0.9968073470989823)}}\n",
      "{}\n",
      "{}\n",
      "\n",
      "-------------------------------------------\n",
      "\n"
     ]
    },
    {
     "name": "stderr",
     "output_type": "stream",
     "text": [
      "C:\\Users\\ehudb\\OneDrive\\Desktop\\pyMagicStat\\pyMagicStat\\Classes\\distributions.py:592: UserWarning: No valid distributions were found after applying goodness of fit tests.\n",
      "  warnings.warn(\"No valid distributions were found after applying goodness of fit tests.\", UserWarning)\n"
     ]
    }
   ],
   "source": [
    "# Lognormal sin aproximación a normal\n",
    "print(\"lognormal_no_normal\")\n",
    "\n",
    "\n",
    "lognormal_no_normal = Distribution(np.random.lognormal(mean=0, sigma=1, size=5000))\n",
    "lognormal_no_normal_results = audit_precision(lognormal_no_normal.data)\n",
    "\n",
    "r = GoodnessAndFit(lognormal_no_normal)\n",
    "r.evaluate_fit()\n",
    "print(lognormal_no_normal.type)\n",
    "print(lognormal_no_normal.aic_table)\n",
    "\n",
    "print(\"\\n-------------------------------------------\\n\")\n",
    "\n",
    "\n",
    "print(\"Lognormal con aproximación a normal:\")\n",
    "# Lognormal con aproximación a normal\n",
    "lognormal_normal_approx = Distribution(np.random.lognormal(mean=0, sigma=0.1, size=5000))\n",
    "lognormal_normal_approx_results = audit_precision(lognormal_normal_approx.data)\n",
    "print(lognormal_normal_approx_results)\n",
    "x = GoodnessAndFit(lognormal_normal_approx)\n",
    "x.evaluate_fit()\n",
    "print(lognormal_normal_approx.type)\n",
    "print(lognormal_normal_approx.aic_table)\n",
    "print(\"\\n-------------------------------------------\\n\")"
   ]
  },
  {
   "cell_type": "code",
   "execution_count": null,
   "metadata": {},
   "outputs": [],
   "source": []
  },
  {
   "cell_type": "markdown",
   "metadata": {},
   "source": [
    "<h3>Lognormal hay que solucionar la falta de presicion en la aproximacion a la normal.</h3>"
   ]
  },
  {
   "cell_type": "code",
   "execution_count": 156,
   "metadata": {},
   "outputs": [
    {
     "name": "stdout",
     "output_type": "stream",
     "text": [
      "Binomial sin aproximación a normal:\n",
      "[2 4 2 ... 3 2 2]\n",
      "Type de self.data: <class 'numpy.ndarray'>\n",
      "Type de elementos en self.data: int32\n",
      "{'p_value': np.float64(0.8779016648725478), 'Result': np.True_, 'txt': 'Likelihod ratio (G2) test: chi2 1.20, p = 0.8779'}\n",
      "{'Result': np.False_, 'txt': 'Cannot be treated as normal'}\n",
      "{'Binomial': {'Fit': np.True_, 'Normal_approx': np.False_, 'Methods': {'Test': 'Likelihod ratio (G2) test', 'p_value': np.float64(0.8779016648725478), 'chi_stat': np.float64(1.2011960002355306)}}}\n",
      "n estimado: 5, p estimado: 0.4956\n",
      "Media teórica: 2.478, Media empírica: 2.478\n",
      "Varianza teórica: 1.2499032, Varianza empírica: 1.240716\n",
      "binomial data quality None\n",
      "\n",
      "-------------------------------------------\n",
      "\n",
      "Binomial con aproximación a normal:\n",
      "{'p_value': np.float64(0.792516473891458), 'Result': np.True_, 'txt': 'Likelihod ratio (G2) test: chi2 4.67, p = 0.7925'}\n",
      "{'Result': np.False_, 'txt': 'Cannot be treated as normal'}\n",
      "{'Binomial': {'Fit': np.True_, 'Normal_approx': np.False_, 'Methods': {'Test': 'Likelihod ratio (G2) test', 'p_value': np.float64(0.792516473891458), 'chi_stat': np.float64(4.66686008240215)}}}\n",
      "n estimado: 10, p estimado: 0.4965\n",
      "Media teórica: 4.9646, Media empírica: 4.9646\n",
      "Varianza teórica: 2.499874684, Varianza empírica: 2.48854684\n",
      "binomial data quality None\n",
      "\n",
      "-------------------------------------------\n",
      "\n"
     ]
    }
   ],
   "source": [
    "def binomial_data_test(binomial_instance):\n",
    "    # Extraemos los parámetros de la instancia\n",
    "    n = binomial_instance.n\n",
    "    p = binomial_instance.p\n",
    "\n",
    "    media_teorica = n * p\n",
    "    varianza_teorica = n * p * (1 - p)\n",
    "\n",
    "    # Parámetros empíricos calculados a partir de los datos\n",
    "    data = binomial_instance.data\n",
    "    media_empirica = np.mean(data)\n",
    "    varianza_empirica = np.var(data)\n",
    "\n",
    "    print(f\"n estimado: {n}, p estimado: {p:.4f}\")\n",
    "    print(f\"Media teórica: {media_teorica}, Media empírica: {media_empirica}\")\n",
    "    print(f\"Varianza teórica: {varianza_teorica}, Varianza empírica: {varianza_empirica}\")\n",
    "\n",
    "print(\"Binomial sin aproximación a normal:\")\n",
    "# Binomial sin aproximación a normal\n",
    "#Iniciate de Distribution object \n",
    "binomial_no_normal = Distribution(np.random.binomial(n=5, p=0.5, size=5000))\n",
    "# Distribution.data is where we store de dataframe\n",
    "print(binomial_no_normal.data)\n",
    "\n",
    "print(\"Type de self.data:\", type(binomial_no_normal.data))\n",
    "print(\"Type de elementos en self.data:\", binomial_no_normal.data.dtype)\n",
    "#binomial_no_normal_results = audit_precision(binomial_no_normal.data)\n",
    "#print(binomial_no_normal_results)\n",
    "\n",
    "#inicialice Distribution as Binomial_distribution object \n",
    "z = BinomialDistribution(binomial_no_normal)\n",
    "\n",
    "# evaluate if the class instance is adjust to the particular distribution and return True|False and store the output on the Distribution.tipo(hay que cambiar a type)\n",
    "print(z.fit_test())\n",
    "\n",
    "# evaluate if the object is from the specify distribution and if it has a normal approximation\n",
    "print(z.normal_approximation())\n",
    "\n",
    "#return the distribution type detail ..\n",
    "print(z.type)\n",
    "print(f'binomial data quality {binomial_data_test(z)}')\n",
    "print(\"\\n-------------------------------------------\\n\")\n",
    "\n",
    "\n",
    "print(\"Binomial con aproximación a normal:\")\n",
    "# Binomial con aproximación a normal\n",
    "binomial_normal_approx = Distribution(np.random.binomial(n=10, p=0.5, size=5000))\n",
    "#binomial_normal_approx_results = audit_precision(binomial_normal_approx.data)\n",
    "#print(binomial_normal_approx_results)\n",
    "r = BinomialDistribution(binomial_normal_approx)\n",
    "print(r.fit_test())\n",
    "print(r.normal_approximation())\n",
    "print(r.type)\n",
    "print(f'binomial data quality {binomial_data_test(r)}')\n",
    "print(\"\\n-------------------------------------------\\n\")\n",
    "\n"
   ]
  },
  {
   "cell_type": "code",
   "execution_count": 157,
   "metadata": {},
   "outputs": [
    {
     "data": {
      "text/plain": [
       "{'Binomial': {'Fit': np.True_,\n",
       "  'Normal_approx': np.False_,\n",
       "  'Methods': {'Test': 'Likelihod ratio (G2) test',\n",
       "   'p_value': np.float64(0.8779016648725478),\n",
       "   'chi_stat': np.float64(1.2011960002355306)}}}"
      ]
     },
     "execution_count": 157,
     "metadata": {},
     "output_type": "execute_result"
    }
   ],
   "source": [
    "z.type"
   ]
  },
  {
   "cell_type": "code",
   "execution_count": 158,
   "metadata": {},
   "outputs": [
    {
     "name": "stdout",
     "output_type": "stream",
     "text": [
      "{}\n",
      "{}\n",
      "{'p_value': np.float64(2.973322458414689e-141), 'Result': np.False_, 'txt': 'Chi-square test: chi2 776.67, p = 0.0000'}\n",
      "{'p_value': np.float64(0.0), 'Result': np.False_, 'txt': 'Likelihod ratio (G2) test: chi2 1355.15, p = 0.0000'}\n"
     ]
    },
    {
     "name": "stderr",
     "output_type": "stream",
     "text": [
      "C:\\Users\\ehudb\\OneDrive\\Desktop\\pyMagicStat\\pyMagicStat\\Classes\\distributions.py:592: UserWarning: No valid distributions were found after applying goodness of fit tests.\n",
      "  warnings.warn(\"No valid distributions were found after applying goodness of fit tests.\", UserWarning)\n"
     ]
    }
   ],
   "source": [
    "a = Distribution(np.random.binomial(n=100, p=0.5, size=5000))\n",
    "b = GoodnessAndFit(a)\n",
    "b.evaluate_fit()\n",
    "print(a.type)\n",
    "print(a.aic_table)\n",
    "print(PoissonDistribution(a).fit_test())\n",
    "print(BinomialDistribution(a).fit_test())\n"
   ]
  },
  {
   "cell_type": "markdown",
   "metadata": {},
   "source": [
    "<h1>Esta Salida solo debe mostrar pruebas positivas de distribucion</h1>"
   ]
  },
  {
   "cell_type": "markdown",
   "metadata": {},
   "source": [
    "generar una funcion con el bloque anterior para que valide cada una de las instancias de binomial y se cierra ese modulo"
   ]
  },
  {
   "cell_type": "markdown",
   "metadata": {},
   "source": [
    "<H3>Poisson Distribution</H3>"
   ]
  },
  {
   "cell_type": "code",
   "execution_count": 159,
   "metadata": {},
   "outputs": [
    {
     "name": "stdout",
     "output_type": "stream",
     "text": [
      "{'Poisson': {'Fit': np.True_, 'Normal_approx': np.False_, 'Methods': {'Test': 'Chi-square test', 'p_value': np.float64(0.7763539428178307), 'chi_stat': np.float64(6.44768352771329)}}}\n",
      "{'Poisson': {'Fit': np.True_, 'Normal_approx': np.False_, 'Methods': {'Test': 'Chi-square test', 'p_value': np.float64(0.7554965047936456), 'chi_stat': np.float64(34.44409416335363)}}}\n",
      "Poisson con aproximación a normal:\n"
     ]
    }
   ],
   "source": [
    "# Poisson sin aproximación a normal\n",
    "poisson_no_normal = np.random.poisson(lam=2, size=5000)\n",
    "#poisson_no_normal_results = audit_precision(poisson_no_normal)\n",
    "#print(\"Poisson sin aproximación a normal:\")\n",
    "#print(poisson_no_normal_results)\n",
    "m_0 = PoissonDistribution(poisson_no_normal)\n",
    "m_0.fit_test()\n",
    "m_0.normal_approximation()\n",
    "print(m_0.type)\n",
    "\n",
    "# Poisson con aproximación a normal\n",
    "poisson_normal_approx = np.random.poisson(lam=30, size=5000)\n",
    "n_0 = PoissonDistribution(poisson_normal_approx)\n",
    "n_0.fit_test()\n",
    "n_0.normal_approximation()\n",
    "print(n_0.type)\n",
    "\n",
    "print(\"Poisson con aproximación a normal:\")\n"
   ]
  },
  {
   "cell_type": "markdown",
   "metadata": {},
   "source": [
    "<h3>Poisson trabajar approx a normalidad </h3>"
   ]
  },
  {
   "cell_type": "code",
   "execution_count": 160,
   "metadata": {},
   "outputs": [],
   "source": [
    "# Generar datos de prueba\n",
    "data_normal = np.random.normal(loc=0, scale=1, size=1000)\n",
    "data_binomial = np.random.binomial(n=10, p=0.5, size=1000)\n",
    "data_poisson = np.random.poisson(lam=5, size=1000)\n",
    "data_lognormal = np.random.lognormal(mean=0, sigma=1, size=1000)\n"
   ]
  },
  {
   "cell_type": "code",
   "execution_count": 161,
   "metadata": {},
   "outputs": [
    {
     "name": "stdout",
     "output_type": "stream",
     "text": [
      "Normal Distribution Fit Test:____________"
     ]
    },
    {
     "name": "stdout",
     "output_type": "stream",
     "text": [
      "\n",
      "{'Normal': {'Fit': np.True_, 'Normal_approx': True, 'Methods': {'Tests': 'Fisher combined p-value', 'p_values': np.float64(0.2910904501127818), 'fisher_stat': np.float64(7.333647740860286), 'df': 6}}}\n",
      "____________\n",
      "Binomial Distribution Fit Test:\n",
      "{'Binomial': {'Fit': np.False_, 'Normal_approx': None, 'Methods': {'Test': 'Chi-square test', 'p_value': np.float64(0.00928124406462586), 'chi_stat': np.float64(6.767891169473973)}}}\n",
      "____________\n",
      "Poisson Distribution Fit Test:\n",
      "{'Poisson': {'Fit': np.True_, 'Normal_approx': np.False_, 'Methods': {'Test': 'Chi-square test', 'p_value': np.float64(0.5336806827368077), 'chi_stat': np.float64(13.892719008497151)}}}\n",
      "_________________\n",
      "Lognormal Distribution Fit Test:\n",
      "{'Lognormal': {'Fit': np.True_, 'Normal_approx': np.True_, 'Methods': {'Anderson-Darling': {'Statistic': np.float64(0.27983371896084464), 'p_value': np.float64(0.15), 'Decision': np.True_}, 'Shapiro-Wilk': {'Statistic': np.float64(0.9984719323189738), 'p_value': np.float64(0.5364415640329734), 'Decision': np.True_}, 'Kolmogorov-Smirnov': {'Statistic': np.float64(0.018175116039087058), 'p_value': np.float64(0.8897162341009853), 'Decision': np.True_}, 'Combined': {'Statistic': np.float64(5.273540667270703), 'p_value': np.float64(0.5092382400612963), 'Decision': np.True_}, 'Normal_approx': {'Skewness': np.float64(-0.053202185693054016), 'Kurtosis': np.float64(3.1408035010750384), 'Decision': np.True_}}}}\n"
     ]
    }
   ],
   "source": [
    "# Crear instancias de las distribuciones con los datos generados\n",
    "normal_dist = NormalDistribution(data_normal)\n",
    "binomial_dist = BinomialDistribution(NormalDistribution(data_binomial))\n",
    "poisson_dist = PoissonDistribution(NormalDistribution(data_poisson))\n",
    "lognormal_dist = LognormalDistribution(NormalDistribution(data_lognormal))\n",
    "\n",
    "# Realizar las pruebas\n",
    "print(\"Normal Distribution Fit Test:____________\")\n",
    "nor = NormalDistribution(normal_dist)\n",
    "nor.fit_test()\n",
    "nor.normal_approximation()\n",
    "print(nor.type)\n",
    "print(\"____________\")\n",
    "\n",
    "print(\"Binomial Distribution Fit Test:\")\n",
    "bin = BinomialDistribution(binomial_dist)\n",
    "bin.fit_test()\n",
    "bin.normal_approximation()\n",
    "print(bin.type)\n",
    "print(\"____________\")\n",
    "\n",
    "print(\"Poisson Distribution Fit Test:\")\n",
    "poi = PoissonDistribution(poisson_dist)\n",
    "poi.fit_test()\n",
    "poi.normal_approximation()\n",
    "print(poi.type)\n",
    "print(\"_________________\")\n",
    "\n",
    "print(\"Lognormal Distribution Fit Test:\")\n",
    "log = LognormalDistribution(lognormal_dist)\n",
    "log.fit_test()\n",
    "log.normal_approximation()\n",
    "print(log.type)\n",
    "\n"
   ]
  },
  {
   "cell_type": "code",
   "execution_count": 162,
   "metadata": {},
   "outputs": [
    {
     "data": {
      "image/png": "[encoded data removed]",
      "text/plain": [
       "<Figure size 1500x1000 with 4 Axes>"
      ]
     },
     "metadata": {},
     "output_type": "display_data"
    }
   ],
   "source": [
    "# Visualizar las distribuciones generadas\n",
    "plt.figure(figsize=(15, 10))\n",
    "\n",
    "plt.subplot(2, 2, 1)\n",
    "plt.hist(data_normal, bins=30, density=True, alpha=0.6, color='g')\n",
    "plt.title('Normal Distribution')\n",
    "\n",
    "plt.subplot(2, 2, 2)\n",
    "plt.hist(data_binomial, bins=30, density=True, alpha=0.6, color='b')\n",
    "plt.title('Binomial Distribution')\n",
    "\n",
    "plt.subplot(2, 2, 3)\n",
    "plt.hist(data_poisson, bins=30, density=True, alpha=0.6, color='r')\n",
    "plt.title('Poisson Distribution')\n",
    "\n",
    "plt.subplot(2, 2, 4)\n",
    "plt.hist(data_lognormal, bins=30, density=True, alpha=0.6, color='y')\n",
    "plt.title('Lognormal Distribution')\n",
    "\n",
    "plt.tight_layout()\n",
    "plt.show()\n"
   ]
  },
  {
   "cell_type": "code",
   "execution_count": 165,
   "metadata": {},
   "outputs": [
    {
     "name": "stdout",
     "output_type": "stream",
     "text": [
      "{'p_value': np.float64(0.0), 'Result': np.False_, 'txt': 'Likelihod ratio (G2) test: chi2 157.73, p = 0.0000'}\n",
      "{'Result': np.False_, 'txt': 'Not Binomial'}\n"
     ]
    }
   ],
   "source": [
    "data_binomial = np.random.binomial(n=20, p=0.5, size=5000)\n",
    "binomial_model = BinomialDistribution(data_binomial)\n",
    "print(binomial_model.fit_test())\n",
    "print(binomial_model.normal_approximation())\n"
   ]
  },
  {
   "cell_type": "code",
   "execution_count": 163,
   "metadata": {},
   "outputs": [
    {
     "name": "stdout",
     "output_type": "stream",
     "text": [
      "GoodnessOfFit Normal Distribution:\n",
      "{'type': {}, 'errors': {'BinomialDistribution': 'ValueError in BinomialDistribution: All values in data must be non-negative integers'}}\n",
      "{}\n",
      "{}\n",
      "\n",
      "GoodnessOfFit Binomial Distribution:\n",
      "{'type': {}, 'errors': {}}\n",
      "{}\n",
      "{}\n",
      "\n",
      "GoodnessOfFit Poisson Distribution:\n",
      "{'type': {}, 'errors': {}}\n",
      "{}\n",
      "{}\n",
      "\n",
      "GoodnessOfFit Lognormal Distribution:\n",
      "{'type': {}, 'errors': {}}\n",
      "{}\n",
      "{}\n",
      "\n"
     ]
    },
    {
     "name": "stderr",
     "output_type": "stream",
     "text": [
      "C:\\Users\\ehudb\\OneDrive\\Desktop\\pyMagicStat\\pyMagicStat\\Classes\\distributions.py:370: RuntimeWarning: invalid value encountered in log\n",
      "  log_likelihood = np.sum(self.data * np.log(self.lam) - self.lam - log_factorial)\n",
      "C:\\Users\\ehudb\\OneDrive\\Desktop\\pyMagicStat\\pyMagicStat\\Classes\\distributions.py:592: UserWarning: No valid distributions were found after applying goodness of fit tests.\n",
      "  warnings.warn(\"No valid distributions were found after applying goodness of fit tests.\", UserWarning)\n",
      "C:\\Users\\ehudb\\OneDrive\\Desktop\\pyMagicStat\\pyMagicStat\\Classes\\distributions.py:592: UserWarning: No valid distributions were found after applying goodness of fit tests.\n",
      "  warnings.warn(\"No valid distributions were found after applying goodness of fit tests.\", UserWarning)\n",
      "C:\\Users\\ehudb\\OneDrive\\Desktop\\pyMagicStat\\pyMagicStat\\Classes\\distributions.py:592: UserWarning: No valid distributions were found after applying goodness of fit tests.\n",
      "  warnings.warn(\"No valid distributions were found after applying goodness of fit tests.\", UserWarning)\n",
      "C:\\Users\\ehudb\\OneDrive\\Desktop\\pyMagicStat\\pyMagicStat\\Classes\\distributions.py:592: UserWarning: No valid distributions were found after applying goodness of fit tests.\n",
      "  warnings.warn(\"No valid distributions were found after applying goodness of fit tests.\", UserWarning)\n"
     ]
    }
   ],
   "source": [
    "# Generar datos de prueba\n",
    "data_normal = Distribution(np.random.normal(loc=0, scale=1, size=1000))\n",
    "data_binomial = Distribution(np.random.binomial(n=10, p=0.5, size=1000))\n",
    "data_poisson = Distribution(np.random.poisson(lam=5, size=1000))\n",
    "data_lognormal = Distribution(np.random.lognormal(mean=0, sigma=1, size=1000))\n",
    "# Crear instancias de GoodnessAndFit con los datos generados\n",
    "goodness_normal = GoodnessAndFit(data_normal)\n",
    "goodness_binomial = GoodnessAndFit(data_binomial)\n",
    "goodness_poisson = GoodnessAndFit(data_poisson)\n",
    "goodness_lognormal = GoodnessAndFit(data_lognormal)\n",
    "\n",
    "# Realizar las pruebas\n",
    "print(\"GoodnessOfFit Normal Distribution:\")\n",
    "print(goodness_normal.evaluate_fit())\n",
    "print(data_normal.type)\n",
    "print(data_normal.aic_table)\n",
    "print(\"\")\n",
    "\n",
    "print(\"GoodnessOfFit Binomial Distribution:\")\n",
    "print(goodness_binomial.evaluate_fit())\n",
    "print(data_binomial.type)\n",
    "print(data_binomial.aic_table)\n",
    "print(\"\")\n",
    "\n",
    "print(\"GoodnessOfFit Poisson Distribution:\")\n",
    "print(goodness_poisson.evaluate_fit())\n",
    "print(data_lognormal.type)\n",
    "print(data_binomial.aic_table)\n",
    "print(\"\")\n",
    "\n",
    "print(\"GoodnessOfFit Lognormal Distribution:\")\n",
    "print(goodness_lognormal.evaluate_fit())\n",
    "print(data_lognormal.type)\n",
    "print(data_binomial.aic_table)\n",
    "print(\"\")\n"
   ]
  },
  {
   "cell_type": "code",
   "execution_count": 164,
   "metadata": {},
   "outputs": [
    {
     "ename": "TypeError",
     "evalue": "object of type 'Distribution' has no len()",
     "output_type": "error",
     "traceback": [
      "\u001b[1;31m---------------------------------------------------------------------------\u001b[0m",
      "\u001b[1;31mTypeError\u001b[0m                                 Traceback (most recent call last)",
      "Cell \u001b[1;32mIn[164], line 5\u001b[0m\n\u001b[0;32m      2\u001b[0m plt\u001b[38;5;241m.\u001b[39mfigure(figsize\u001b[38;5;241m=\u001b[39m(\u001b[38;5;241m15\u001b[39m, \u001b[38;5;241m10\u001b[39m))\n\u001b[0;32m      4\u001b[0m plt\u001b[38;5;241m.\u001b[39msubplot(\u001b[38;5;241m2\u001b[39m, \u001b[38;5;241m2\u001b[39m, \u001b[38;5;241m1\u001b[39m)\n\u001b[1;32m----> 5\u001b[0m \u001b[43mplt\u001b[49m\u001b[38;5;241;43m.\u001b[39;49m\u001b[43mhist\u001b[49m\u001b[43m(\u001b[49m\u001b[43mdata_normal\u001b[49m\u001b[43m,\u001b[49m\u001b[43m \u001b[49m\u001b[43mbins\u001b[49m\u001b[38;5;241;43m=\u001b[39;49m\u001b[38;5;241;43m30\u001b[39;49m\u001b[43m,\u001b[49m\u001b[43m \u001b[49m\u001b[43mdensity\u001b[49m\u001b[38;5;241;43m=\u001b[39;49m\u001b[38;5;28;43;01mTrue\u001b[39;49;00m\u001b[43m,\u001b[49m\u001b[43m \u001b[49m\u001b[43malpha\u001b[49m\u001b[38;5;241;43m=\u001b[39;49m\u001b[38;5;241;43m0.6\u001b[39;49m\u001b[43m,\u001b[49m\u001b[43m \u001b[49m\u001b[43mcolor\u001b[49m\u001b[38;5;241;43m=\u001b[39;49m\u001b[38;5;124;43m'\u001b[39;49m\u001b[38;5;124;43mg\u001b[39;49m\u001b[38;5;124;43m'\u001b[39;49m\u001b[43m)\u001b[49m\n\u001b[0;32m      6\u001b[0m plt\u001b[38;5;241m.\u001b[39mtitle(\u001b[38;5;124m'\u001b[39m\u001b[38;5;124mNormal Distribution\u001b[39m\u001b[38;5;124m'\u001b[39m)\n\u001b[0;32m      8\u001b[0m plt\u001b[38;5;241m.\u001b[39msubplot(\u001b[38;5;241m2\u001b[39m, \u001b[38;5;241m2\u001b[39m, \u001b[38;5;241m2\u001b[39m)\n",
      "File \u001b[1;32m~\\AppData\\Local\\Packages\\PythonSoftwareFoundation.Python.3.13_qbz5n2kfra8p0\\LocalCache\\local-packages\\Python313\\site-packages\\matplotlib\\_api\\deprecation.py:453\u001b[0m, in \u001b[0;36mmake_keyword_only.<locals>.wrapper\u001b[1;34m(*args, **kwargs)\u001b[0m\n\u001b[0;32m    447\u001b[0m \u001b[38;5;28;01mif\u001b[39;00m \u001b[38;5;28mlen\u001b[39m(args) \u001b[38;5;241m>\u001b[39m name_idx:\n\u001b[0;32m    448\u001b[0m     warn_deprecated(\n\u001b[0;32m    449\u001b[0m         since, message\u001b[38;5;241m=\u001b[39m\u001b[38;5;124m\"\u001b[39m\u001b[38;5;124mPassing the \u001b[39m\u001b[38;5;132;01m%(name)s\u001b[39;00m\u001b[38;5;124m \u001b[39m\u001b[38;5;132;01m%(obj_type)s\u001b[39;00m\u001b[38;5;124m \u001b[39m\u001b[38;5;124m\"\u001b[39m\n\u001b[0;32m    450\u001b[0m         \u001b[38;5;124m\"\u001b[39m\u001b[38;5;124mpositionally is deprecated since Matplotlib \u001b[39m\u001b[38;5;132;01m%(since)s\u001b[39;00m\u001b[38;5;124m; the \u001b[39m\u001b[38;5;124m\"\u001b[39m\n\u001b[0;32m    451\u001b[0m         \u001b[38;5;124m\"\u001b[39m\u001b[38;5;124mparameter will become keyword-only in \u001b[39m\u001b[38;5;132;01m%(removal)s\u001b[39;00m\u001b[38;5;124m.\u001b[39m\u001b[38;5;124m\"\u001b[39m,\n\u001b[0;32m    452\u001b[0m         name\u001b[38;5;241m=\u001b[39mname, obj_type\u001b[38;5;241m=\u001b[39m\u001b[38;5;124mf\u001b[39m\u001b[38;5;124m\"\u001b[39m\u001b[38;5;124mparameter of \u001b[39m\u001b[38;5;132;01m{\u001b[39;00mfunc\u001b[38;5;241m.\u001b[39m\u001b[38;5;18m__name__\u001b[39m\u001b[38;5;132;01m}\u001b[39;00m\u001b[38;5;124m()\u001b[39m\u001b[38;5;124m\"\u001b[39m)\n\u001b[1;32m--> 453\u001b[0m \u001b[38;5;28;01mreturn\u001b[39;00m \u001b[43mfunc\u001b[49m\u001b[43m(\u001b[49m\u001b[38;5;241;43m*\u001b[39;49m\u001b[43margs\u001b[49m\u001b[43m,\u001b[49m\u001b[43m \u001b[49m\u001b[38;5;241;43m*\u001b[39;49m\u001b[38;5;241;43m*\u001b[39;49m\u001b[43mkwargs\u001b[49m\u001b[43m)\u001b[49m\n",
      "File \u001b[1;32m~\\AppData\\Local\\Packages\\PythonSoftwareFoundation.Python.3.13_qbz5n2kfra8p0\\LocalCache\\local-packages\\Python313\\site-packages\\matplotlib\\pyplot.py:3469\u001b[0m, in \u001b[0;36mhist\u001b[1;34m(x, bins, range, density, weights, cumulative, bottom, histtype, align, orientation, rwidth, log, color, label, stacked, data, **kwargs)\u001b[0m\n\u001b[0;32m   3444\u001b[0m \u001b[38;5;129m@_copy_docstring_and_deprecators\u001b[39m(Axes\u001b[38;5;241m.\u001b[39mhist)\n\u001b[0;32m   3445\u001b[0m \u001b[38;5;28;01mdef\u001b[39;00m\u001b[38;5;250m \u001b[39m\u001b[38;5;21mhist\u001b[39m(\n\u001b[0;32m   3446\u001b[0m     x: ArrayLike \u001b[38;5;241m|\u001b[39m Sequence[ArrayLike],\n\u001b[1;32m   (...)\u001b[0m\n\u001b[0;32m   3467\u001b[0m     BarContainer \u001b[38;5;241m|\u001b[39m Polygon \u001b[38;5;241m|\u001b[39m \u001b[38;5;28mlist\u001b[39m[BarContainer \u001b[38;5;241m|\u001b[39m Polygon],\n\u001b[0;32m   3468\u001b[0m ]:\n\u001b[1;32m-> 3469\u001b[0m     \u001b[38;5;28;01mreturn\u001b[39;00m \u001b[43mgca\u001b[49m\u001b[43m(\u001b[49m\u001b[43m)\u001b[49m\u001b[38;5;241;43m.\u001b[39;49m\u001b[43mhist\u001b[49m\u001b[43m(\u001b[49m\n\u001b[0;32m   3470\u001b[0m \u001b[43m        \u001b[49m\u001b[43mx\u001b[49m\u001b[43m,\u001b[49m\n\u001b[0;32m   3471\u001b[0m \u001b[43m        \u001b[49m\u001b[43mbins\u001b[49m\u001b[38;5;241;43m=\u001b[39;49m\u001b[43mbins\u001b[49m\u001b[43m,\u001b[49m\n\u001b[0;32m   3472\u001b[0m \u001b[43m        \u001b[49m\u001b[38;5;28;43mrange\u001b[39;49m\u001b[38;5;241;43m=\u001b[39;49m\u001b[38;5;28;43mrange\u001b[39;49m\u001b[43m,\u001b[49m\n\u001b[0;32m   3473\u001b[0m \u001b[43m        \u001b[49m\u001b[43mdensity\u001b[49m\u001b[38;5;241;43m=\u001b[39;49m\u001b[43mdensity\u001b[49m\u001b[43m,\u001b[49m\n\u001b[0;32m   3474\u001b[0m \u001b[43m        \u001b[49m\u001b[43mweights\u001b[49m\u001b[38;5;241;43m=\u001b[39;49m\u001b[43mweights\u001b[49m\u001b[43m,\u001b[49m\n\u001b[0;32m   3475\u001b[0m \u001b[43m        \u001b[49m\u001b[43mcumulative\u001b[49m\u001b[38;5;241;43m=\u001b[39;49m\u001b[43mcumulative\u001b[49m\u001b[43m,\u001b[49m\n\u001b[0;32m   3476\u001b[0m \u001b[43m        \u001b[49m\u001b[43mbottom\u001b[49m\u001b[38;5;241;43m=\u001b[39;49m\u001b[43mbottom\u001b[49m\u001b[43m,\u001b[49m\n\u001b[0;32m   3477\u001b[0m \u001b[43m        \u001b[49m\u001b[43mhisttype\u001b[49m\u001b[38;5;241;43m=\u001b[39;49m\u001b[43mhisttype\u001b[49m\u001b[43m,\u001b[49m\n\u001b[0;32m   3478\u001b[0m \u001b[43m        \u001b[49m\u001b[43malign\u001b[49m\u001b[38;5;241;43m=\u001b[39;49m\u001b[43malign\u001b[49m\u001b[43m,\u001b[49m\n\u001b[0;32m   3479\u001b[0m \u001b[43m        \u001b[49m\u001b[43morientation\u001b[49m\u001b[38;5;241;43m=\u001b[39;49m\u001b[43morientation\u001b[49m\u001b[43m,\u001b[49m\n\u001b[0;32m   3480\u001b[0m \u001b[43m        \u001b[49m\u001b[43mrwidth\u001b[49m\u001b[38;5;241;43m=\u001b[39;49m\u001b[43mrwidth\u001b[49m\u001b[43m,\u001b[49m\n\u001b[0;32m   3481\u001b[0m \u001b[43m        \u001b[49m\u001b[43mlog\u001b[49m\u001b[38;5;241;43m=\u001b[39;49m\u001b[43mlog\u001b[49m\u001b[43m,\u001b[49m\n\u001b[0;32m   3482\u001b[0m \u001b[43m        \u001b[49m\u001b[43mcolor\u001b[49m\u001b[38;5;241;43m=\u001b[39;49m\u001b[43mcolor\u001b[49m\u001b[43m,\u001b[49m\n\u001b[0;32m   3483\u001b[0m \u001b[43m        \u001b[49m\u001b[43mlabel\u001b[49m\u001b[38;5;241;43m=\u001b[39;49m\u001b[43mlabel\u001b[49m\u001b[43m,\u001b[49m\n\u001b[0;32m   3484\u001b[0m \u001b[43m        \u001b[49m\u001b[43mstacked\u001b[49m\u001b[38;5;241;43m=\u001b[39;49m\u001b[43mstacked\u001b[49m\u001b[43m,\u001b[49m\n\u001b[0;32m   3485\u001b[0m \u001b[43m        \u001b[49m\u001b[38;5;241;43m*\u001b[39;49m\u001b[38;5;241;43m*\u001b[39;49m\u001b[43m(\u001b[49m\u001b[43m{\u001b[49m\u001b[38;5;124;43m\"\u001b[39;49m\u001b[38;5;124;43mdata\u001b[39;49m\u001b[38;5;124;43m\"\u001b[39;49m\u001b[43m:\u001b[49m\u001b[43m \u001b[49m\u001b[43mdata\u001b[49m\u001b[43m}\u001b[49m\u001b[43m \u001b[49m\u001b[38;5;28;43;01mif\u001b[39;49;00m\u001b[43m \u001b[49m\u001b[43mdata\u001b[49m\u001b[43m \u001b[49m\u001b[38;5;129;43;01mis\u001b[39;49;00m\u001b[43m \u001b[49m\u001b[38;5;129;43;01mnot\u001b[39;49;00m\u001b[43m \u001b[49m\u001b[38;5;28;43;01mNone\u001b[39;49;00m\u001b[43m \u001b[49m\u001b[38;5;28;43;01melse\u001b[39;49;00m\u001b[43m \u001b[49m\u001b[43m{\u001b[49m\u001b[43m}\u001b[49m\u001b[43m)\u001b[49m\u001b[43m,\u001b[49m\n\u001b[0;32m   3486\u001b[0m \u001b[43m        \u001b[49m\u001b[38;5;241;43m*\u001b[39;49m\u001b[38;5;241;43m*\u001b[39;49m\u001b[43mkwargs\u001b[49m\u001b[43m,\u001b[49m\n\u001b[0;32m   3487\u001b[0m \u001b[43m    \u001b[49m\u001b[43m)\u001b[49m\n",
      "File \u001b[1;32m~\\AppData\\Local\\Packages\\PythonSoftwareFoundation.Python.3.13_qbz5n2kfra8p0\\LocalCache\\local-packages\\Python313\\site-packages\\matplotlib\\_api\\deprecation.py:453\u001b[0m, in \u001b[0;36mmake_keyword_only.<locals>.wrapper\u001b[1;34m(*args, **kwargs)\u001b[0m\n\u001b[0;32m    447\u001b[0m \u001b[38;5;28;01mif\u001b[39;00m \u001b[38;5;28mlen\u001b[39m(args) \u001b[38;5;241m>\u001b[39m name_idx:\n\u001b[0;32m    448\u001b[0m     warn_deprecated(\n\u001b[0;32m    449\u001b[0m         since, message\u001b[38;5;241m=\u001b[39m\u001b[38;5;124m\"\u001b[39m\u001b[38;5;124mPassing the \u001b[39m\u001b[38;5;132;01m%(name)s\u001b[39;00m\u001b[38;5;124m \u001b[39m\u001b[38;5;132;01m%(obj_type)s\u001b[39;00m\u001b[38;5;124m \u001b[39m\u001b[38;5;124m\"\u001b[39m\n\u001b[0;32m    450\u001b[0m         \u001b[38;5;124m\"\u001b[39m\u001b[38;5;124mpositionally is deprecated since Matplotlib \u001b[39m\u001b[38;5;132;01m%(since)s\u001b[39;00m\u001b[38;5;124m; the \u001b[39m\u001b[38;5;124m\"\u001b[39m\n\u001b[0;32m    451\u001b[0m         \u001b[38;5;124m\"\u001b[39m\u001b[38;5;124mparameter will become keyword-only in \u001b[39m\u001b[38;5;132;01m%(removal)s\u001b[39;00m\u001b[38;5;124m.\u001b[39m\u001b[38;5;124m\"\u001b[39m,\n\u001b[0;32m    452\u001b[0m         name\u001b[38;5;241m=\u001b[39mname, obj_type\u001b[38;5;241m=\u001b[39m\u001b[38;5;124mf\u001b[39m\u001b[38;5;124m\"\u001b[39m\u001b[38;5;124mparameter of \u001b[39m\u001b[38;5;132;01m{\u001b[39;00mfunc\u001b[38;5;241m.\u001b[39m\u001b[38;5;18m__name__\u001b[39m\u001b[38;5;132;01m}\u001b[39;00m\u001b[38;5;124m()\u001b[39m\u001b[38;5;124m\"\u001b[39m)\n\u001b[1;32m--> 453\u001b[0m \u001b[38;5;28;01mreturn\u001b[39;00m \u001b[43mfunc\u001b[49m\u001b[43m(\u001b[49m\u001b[38;5;241;43m*\u001b[39;49m\u001b[43margs\u001b[49m\u001b[43m,\u001b[49m\u001b[43m \u001b[49m\u001b[38;5;241;43m*\u001b[39;49m\u001b[38;5;241;43m*\u001b[39;49m\u001b[43mkwargs\u001b[49m\u001b[43m)\u001b[49m\n",
      "File \u001b[1;32m~\\AppData\\Local\\Packages\\PythonSoftwareFoundation.Python.3.13_qbz5n2kfra8p0\\LocalCache\\local-packages\\Python313\\site-packages\\matplotlib\\__init__.py:1521\u001b[0m, in \u001b[0;36m_preprocess_data.<locals>.inner\u001b[1;34m(ax, data, *args, **kwargs)\u001b[0m\n\u001b[0;32m   1518\u001b[0m \u001b[38;5;129m@functools\u001b[39m\u001b[38;5;241m.\u001b[39mwraps(func)\n\u001b[0;32m   1519\u001b[0m \u001b[38;5;28;01mdef\u001b[39;00m\u001b[38;5;250m \u001b[39m\u001b[38;5;21minner\u001b[39m(ax, \u001b[38;5;241m*\u001b[39margs, data\u001b[38;5;241m=\u001b[39m\u001b[38;5;28;01mNone\u001b[39;00m, \u001b[38;5;241m*\u001b[39m\u001b[38;5;241m*\u001b[39mkwargs):\n\u001b[0;32m   1520\u001b[0m     \u001b[38;5;28;01mif\u001b[39;00m data \u001b[38;5;129;01mis\u001b[39;00m \u001b[38;5;28;01mNone\u001b[39;00m:\n\u001b[1;32m-> 1521\u001b[0m         \u001b[38;5;28;01mreturn\u001b[39;00m \u001b[43mfunc\u001b[49m\u001b[43m(\u001b[49m\n\u001b[0;32m   1522\u001b[0m \u001b[43m            \u001b[49m\u001b[43max\u001b[49m\u001b[43m,\u001b[49m\n\u001b[0;32m   1523\u001b[0m \u001b[43m            \u001b[49m\u001b[38;5;241;43m*\u001b[39;49m\u001b[38;5;28;43mmap\u001b[39;49m\u001b[43m(\u001b[49m\u001b[43mcbook\u001b[49m\u001b[38;5;241;43m.\u001b[39;49m\u001b[43msanitize_sequence\u001b[49m\u001b[43m,\u001b[49m\u001b[43m \u001b[49m\u001b[43margs\u001b[49m\u001b[43m)\u001b[49m\u001b[43m,\u001b[49m\n\u001b[0;32m   1524\u001b[0m \u001b[43m            \u001b[49m\u001b[38;5;241;43m*\u001b[39;49m\u001b[38;5;241;43m*\u001b[39;49m\u001b[43m{\u001b[49m\u001b[43mk\u001b[49m\u001b[43m:\u001b[49m\u001b[43m \u001b[49m\u001b[43mcbook\u001b[49m\u001b[38;5;241;43m.\u001b[39;49m\u001b[43msanitize_sequence\u001b[49m\u001b[43m(\u001b[49m\u001b[43mv\u001b[49m\u001b[43m)\u001b[49m\u001b[43m \u001b[49m\u001b[38;5;28;43;01mfor\u001b[39;49;00m\u001b[43m \u001b[49m\u001b[43mk\u001b[49m\u001b[43m,\u001b[49m\u001b[43m \u001b[49m\u001b[43mv\u001b[49m\u001b[43m \u001b[49m\u001b[38;5;129;43;01min\u001b[39;49;00m\u001b[43m \u001b[49m\u001b[43mkwargs\u001b[49m\u001b[38;5;241;43m.\u001b[39;49m\u001b[43mitems\u001b[49m\u001b[43m(\u001b[49m\u001b[43m)\u001b[49m\u001b[43m}\u001b[49m\u001b[43m)\u001b[49m\n\u001b[0;32m   1526\u001b[0m     bound \u001b[38;5;241m=\u001b[39m new_sig\u001b[38;5;241m.\u001b[39mbind(ax, \u001b[38;5;241m*\u001b[39margs, \u001b[38;5;241m*\u001b[39m\u001b[38;5;241m*\u001b[39mkwargs)\n\u001b[0;32m   1527\u001b[0m     auto_label \u001b[38;5;241m=\u001b[39m (bound\u001b[38;5;241m.\u001b[39marguments\u001b[38;5;241m.\u001b[39mget(label_namer)\n\u001b[0;32m   1528\u001b[0m                   \u001b[38;5;129;01mor\u001b[39;00m bound\u001b[38;5;241m.\u001b[39mkwargs\u001b[38;5;241m.\u001b[39mget(label_namer))\n",
      "File \u001b[1;32m~\\AppData\\Local\\Packages\\PythonSoftwareFoundation.Python.3.13_qbz5n2kfra8p0\\LocalCache\\local-packages\\Python313\\site-packages\\matplotlib\\axes\\_axes.py:7006\u001b[0m, in \u001b[0;36mAxes.hist\u001b[1;34m(self, x, bins, range, density, weights, cumulative, bottom, histtype, align, orientation, rwidth, log, color, label, stacked, **kwargs)\u001b[0m\n\u001b[0;32m   7003\u001b[0m     stacked \u001b[38;5;241m=\u001b[39m \u001b[38;5;28;01mTrue\u001b[39;00m\n\u001b[0;32m   7005\u001b[0m \u001b[38;5;66;03m# Massage 'x' for processing.\u001b[39;00m\n\u001b[1;32m-> 7006\u001b[0m x \u001b[38;5;241m=\u001b[39m \u001b[43mcbook\u001b[49m\u001b[38;5;241;43m.\u001b[39;49m\u001b[43m_reshape_2D\u001b[49m\u001b[43m(\u001b[49m\u001b[43mx\u001b[49m\u001b[43m,\u001b[49m\u001b[43m \u001b[49m\u001b[38;5;124;43m'\u001b[39;49m\u001b[38;5;124;43mx\u001b[39;49m\u001b[38;5;124;43m'\u001b[39;49m\u001b[43m)\u001b[49m\n\u001b[0;32m   7007\u001b[0m nx \u001b[38;5;241m=\u001b[39m \u001b[38;5;28mlen\u001b[39m(x)  \u001b[38;5;66;03m# number of datasets\u001b[39;00m\n\u001b[0;32m   7009\u001b[0m \u001b[38;5;66;03m# Process unit information.  _process_unit_info sets the unit and\u001b[39;00m\n\u001b[0;32m   7010\u001b[0m \u001b[38;5;66;03m# converts the first dataset; then we convert each following dataset\u001b[39;00m\n\u001b[0;32m   7011\u001b[0m \u001b[38;5;66;03m# one at a time.\u001b[39;00m\n",
      "File \u001b[1;32m~\\AppData\\Local\\Packages\\PythonSoftwareFoundation.Python.3.13_qbz5n2kfra8p0\\LocalCache\\local-packages\\Python313\\site-packages\\matplotlib\\cbook.py:1394\u001b[0m, in \u001b[0;36m_reshape_2D\u001b[1;34m(X, name)\u001b[0m\n\u001b[0;32m   1391\u001b[0m         \u001b[38;5;28;01mraise\u001b[39;00m \u001b[38;5;167;01mValueError\u001b[39;00m(\u001b[38;5;124mf\u001b[39m\u001b[38;5;124m'\u001b[39m\u001b[38;5;132;01m{\u001b[39;00mname\u001b[38;5;132;01m}\u001b[39;00m\u001b[38;5;124m must have 2 or fewer dimensions\u001b[39m\u001b[38;5;124m'\u001b[39m)\n\u001b[0;32m   1393\u001b[0m \u001b[38;5;66;03m# Iterate over list of iterables.\u001b[39;00m\n\u001b[1;32m-> 1394\u001b[0m \u001b[38;5;28;01mif\u001b[39;00m \u001b[38;5;28;43mlen\u001b[39;49m\u001b[43m(\u001b[49m\u001b[43mX\u001b[49m\u001b[43m)\u001b[49m \u001b[38;5;241m==\u001b[39m \u001b[38;5;241m0\u001b[39m:\n\u001b[0;32m   1395\u001b[0m     \u001b[38;5;28;01mreturn\u001b[39;00m [[]]\n\u001b[0;32m   1397\u001b[0m result \u001b[38;5;241m=\u001b[39m []\n",
      "\u001b[1;31mTypeError\u001b[0m: object of type 'Distribution' has no len()"
     ]
    },
    {
     "data": {
      "image/png": "[encoded data removed]",
      "text/plain": [
       "<Figure size 1500x1000 with 1 Axes>"
      ]
     },
     "metadata": {},
     "output_type": "display_data"
    }
   ],
   "source": [
    "# Visualizar las distribuciones generadas\n",
    "plt.figure(figsize=(15, 10))\n",
    "\n",
    "plt.subplot(2, 2, 1)\n",
    "plt.hist(data_normal, bins=30, density=True, alpha=0.6, color='g')\n",
    "plt.title('Normal Distribution')\n",
    "\n",
    "plt.subplot(2, 2, 2)\n",
    "plt.hist(data_binomial, bins=30, density=True, alpha=0.6, color='b')\n",
    "plt.title('Binomial Distribution')\n",
    "\n",
    "plt.subplot(2, 2, 3)\n",
    "plt.hist(data_poisson, bins=30, density=True, alpha=0.6, color='r')\n",
    "plt.title('Poisson Distribution')\n",
    "\n",
    "plt.subplot(2, 2, 4)\n",
    "plt.hist(data_lognormal, bins=30, density=True, alpha=0.6, color='y')\n",
    "plt.title('Lognormal Distribution')\n",
    "\n",
    "plt.tight_layout()\n",
    "plt.show()\n"
   ]
  }
 ],
 "metadata": {
  "kernelspec": {
   "display_name": "Python 3",
   "language": "python",
   "name": "python3"
  },
  "language_info": {
   "codemirror_mode": {
    "name": "ipython",
    "version": 3
   },
   "file_extension": ".py",
   "mimetype": "text/x-python",
   "name": "python",
   "nbconvert_exporter": "python",
   "pygments_lexer": "ipython3",
   "version": "3.13.2"
  }
 },
 "nbformat": 4,
 "nbformat_minor": 2
}

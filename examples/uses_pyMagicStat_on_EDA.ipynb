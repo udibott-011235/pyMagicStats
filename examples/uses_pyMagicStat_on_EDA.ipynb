{
 "cells": [
  {
   "cell_type": "markdown",
   "metadata": {},
   "source": [
    "<h1>Proof of Case & Use pyMagicStat-Alpha V 0.02</h1>"
   ]
  },
  {
   "cell_type": "code",
   "execution_count": null,
   "metadata": {},
   "outputs": [],
   "source": []
  },
  {
   "cell_type": "code",
   "execution_count": 41,
   "metadata": {},
   "outputs": [],
   "source": [
    "import sys\n",
    "import shutil\n",
    "import os\n",
    "\n",
    "# Ruta del paquete\n",
    "PYMAGICSTAT_PATH = r'C:\\Users\\ehudb\\OneDrive\\Desktop\\pyMagicStat\\pyMagicStat'\n",
    "\n",
    "# Limpiar caché de módulos\n",
    "pycache_path = os.path.join(PYMAGICSTAT_PATH, '__pycache__')\n",
    "if os.path.exists(pycache_path):\n",
    "    shutil.rmtree(pycache_path)\n",
    "\n",
    "# Limpiar módulos cargados previamente\n",
    "MODULES_TO_CLEAR = [mod for mod in sys.modules if mod.startswith(\"pyMagicStat\")]\n",
    "for module in MODULES_TO_CLEAR:\n",
    "    del sys.modules[module]\n",
    "\n",
    "# Asegurar que el path está correcto\n",
    "if PYMAGICSTAT_PATH not in sys.path:\n",
    "    sys.path.append(PYMAGICSTAT_PATH)\n"
   ]
  },
  {
   "cell_type": "code",
   "execution_count": 42,
   "metadata": {},
   "outputs": [
    {
     "name": "stdout",
     "output_type": "stream",
     "text": [
      "No se encontró caché para limpiar.\n"
     ]
    },
    {
     "ename": "ImportError",
     "evalue": "cannot import name 'BootstrapProportionCI' from 'pyMagicStat.Classes.nonParametricHTest' (C:\\Users\\ehudb\\OneDrive\\Desktop\\pyMagicStat\\pyMagicStat\\Classes\\nonParametricHTest.py)",
     "output_type": "error",
     "traceback": [
      "\u001b[1;31m---------------------------------------------------------------------------\u001b[0m",
      "\u001b[1;31mImportError\u001b[0m                               Traceback (most recent call last)",
      "Cell \u001b[1;32mIn[42], line 78\u001b[0m\n\u001b[0;32m     58\u001b[0m \u001b[38;5;28;01mfrom\u001b[39;00m\u001b[38;5;250m \u001b[39m\u001b[38;5;21;01mpyMagicStat\u001b[39;00m\u001b[38;5;21;01m.\u001b[39;00m\u001b[38;5;21;01mClasses\u001b[39;00m\u001b[38;5;21;01m.\u001b[39;00m\u001b[38;5;21;01mconfidence_intervals\u001b[39;00m\u001b[38;5;250m \u001b[39m\u001b[38;5;28;01mimport\u001b[39;00m (\n\u001b[0;32m     59\u001b[0m     ConfidenceIntervals,\n\u001b[0;32m     60\u001b[0m     NormalDistConfidenceIntervals,\n\u001b[1;32m   (...)\u001b[0m\n\u001b[0;32m     64\u001b[0m     \n\u001b[0;32m     65\u001b[0m )\n\u001b[0;32m     66\u001b[0m \u001b[38;5;28;01mfrom\u001b[39;00m\u001b[38;5;250m \u001b[39m\u001b[38;5;21;01mpyMagicStat\u001b[39;00m\u001b[38;5;21;01m.\u001b[39;00m\u001b[38;5;21;01mClasses\u001b[39;00m\u001b[38;5;21;01m.\u001b[39;00m\u001b[38;5;21;01mdistributions\u001b[39;00m\u001b[38;5;250m \u001b[39m\u001b[38;5;28;01mimport\u001b[39;00m (\n\u001b[0;32m     67\u001b[0m     \n\u001b[0;32m     68\u001b[0m     Distribution,\n\u001b[1;32m   (...)\u001b[0m\n\u001b[0;32m     75\u001b[0m     DiscreteDistributionValidator\n\u001b[0;32m     76\u001b[0m )\n\u001b[1;32m---> 78\u001b[0m \u001b[38;5;28;01mfrom\u001b[39;00m\u001b[38;5;250m \u001b[39m\u001b[38;5;21;01mpyMagicStat\u001b[39;00m\u001b[38;5;21;01m.\u001b[39;00m\u001b[38;5;21;01mClasses\u001b[39;00m\u001b[38;5;21;01m.\u001b[39;00m\u001b[38;5;21;01mnonParametricHTest\u001b[39;00m\u001b[38;5;250m \u001b[39m\u001b[38;5;28;01mimport\u001b[39;00m (\n\u001b[0;32m     79\u001b[0m     BootstrapConfidenceIntervals,\n\u001b[0;32m     80\u001b[0m     BootstrapMeanCI,\n\u001b[0;32m     81\u001b[0m     BootstrapMedianCI,\n\u001b[0;32m     82\u001b[0m     BootstrapVarianceCI,\n\u001b[0;32m     83\u001b[0m     BootstrapProportionCI,\n\u001b[0;32m     84\u001b[0m     NonParametricHTest\n\u001b[0;32m     85\u001b[0m )\n\u001b[0;32m     87\u001b[0m \u001b[38;5;28;01mfrom\u001b[39;00m\u001b[38;5;250m \u001b[39m\u001b[38;5;21;01mpyMagicStat\u001b[39;00m\u001b[38;5;21;01m.\u001b[39;00m\u001b[38;5;21;01mlib\u001b[39;00m\u001b[38;5;21;01m.\u001b[39;00m\u001b[38;5;21;01mutils\u001b[39;00m\u001b[38;5;250m \u001b[39m\u001b[38;5;28;01mimport\u001b[39;00m output_format, validate_non_nan\n\u001b[0;32m     90\u001b[0m \u001b[38;5;66;03m# Validación del entorno\u001b[39;00m\n",
      "\u001b[1;31mImportError\u001b[0m: cannot import name 'BootstrapProportionCI' from 'pyMagicStat.Classes.nonParametricHTest' (C:\\Users\\ehudb\\OneDrive\\Desktop\\pyMagicStat\\pyMagicStat\\Classes\\nonParametricHTest.py)"
     ]
    }
   ],
   "source": [
    "# Configuración inicial para cargar el proyecto y limpiar la caché\n",
    "import sys\n",
    "import os\n",
    "from importlib import reload\n",
    "import shutil\n",
    "import numpy as np\n",
    "from scipy import stats\n",
    "import matplotlib.pyplot as plt\n",
    "\n",
    "# Ruta al directorio raíz del proyecto\n",
    "PROJECT_ROOT = r'C:\\Users\\ehudb\\OneDrive\\Desktop\\pyMagicStat\\pyMagicStat'\n",
    "\n",
    "# Asegurarse de que el proyecto está en sys.path\n",
    "if PROJECT_ROOT not in sys.path:\n",
    "    sys.path.append(PROJECT_ROOT)\n",
    "\n",
    "# Ruta al directorio pyMagicStat\n",
    "PYMAGICSTAT_PATH = os.path.join(PROJECT_ROOT, 'pyMagicStat')\n",
    "\n",
    "# Limpiar caché de módulos\n",
    "def clean_pycache():\n",
    "    pycache_path = os.path.join(PYMAGICSTAT_PATH, '__pycache__')\n",
    "    if os.path.exists(pycache_path):\n",
    "        shutil.rmtree(pycache_path)\n",
    "        print(f\"Eliminado caché en: {pycache_path}\")\n",
    "    else:\n",
    "        print(\"No se encontró caché para limpiar.\")\n",
    "\n",
    "clean_pycache()\n",
    "\n",
    "# Limpiar módulos cargados previamente\n",
    "MODULES_TO_CLEAR = [\n",
    "    \"pyMagicStat.distributions\",\n",
    "    \"pyMagicStat.confidence_intervals\",\n",
    "    \"pyMagicStat.utils\",\n",
    "    \"pyMagicStat.distributionOrchestrator\",\n",
    "    \"pyMagicStat.nonParametricHTest\"\n",
    "]\n",
    "\n",
    "for module in MODULES_TO_CLEAR:\n",
    "    if module in sys.modules:\n",
    "        del sys.modules[module]\n",
    "\n",
    "# Importar módulos principales\n",
    "import pyMagicStat.lib.utils as utils\n",
    "import pyMagicStat.Classes.confidence_intervals as ci\n",
    "import pyMagicStat.Classes.distributions as dist\n",
    "import pyMagicStat.Classes.nonParametricHTest \n",
    "\n",
    "\n",
    "# Recargar módulos para reflejar cambios\n",
    "reload(ci)\n",
    "reload(dist)\n",
    "reload(utils)\n",
    "\n",
    "\n",
    "# Importar clases específicas necesarias\n",
    "from pyMagicStat.Classes.confidence_intervals import (\n",
    "    ConfidenceIntervals,\n",
    "    NormalDistConfidenceIntervals,\n",
    "    PopulationMeanCI,\n",
    "    PopulationProportionCI,\n",
    "    PopulationVarianceCI,\n",
    "    \n",
    ")\n",
    "from pyMagicStat.Classes.distributions import (\n",
    "    \n",
    "    Distribution,\n",
    "    NormalDistribution,\n",
    "    BinomialDistribution,\n",
    "    PoissonDistribution,\n",
    "    LognormalDistribution,\n",
    "    DistributionValidator,\n",
    "    ContinuousDistributionValidator,\n",
    "    DiscreteDistributionValidator\n",
    ")\n",
    "\n",
    "from pyMagicStat.Classes.nonParametricHTest import (\n",
    "    BootstrapConfidenceIntervals,\n",
    "    BootstrapMeanCI,\n",
    "    BootstrapMedianCI,\n",
    "    BootstrapVarianceCI,\n",
    "    BootstrapProportionCI,\n",
    "    NonParametricHTest\n",
    ")\n",
    "\n",
    "from pyMagicStat.lib.utils import output_format, validate_non_nan\n",
    " \n",
    "\n",
    "# Validación del entorno\n",
    "print(\"Módulos pyMagicStat cargados y listos para usar.\")\n"
   ]
  },
  {
   "cell_type": "code",
   "execution_count": 7,
   "metadata": {},
   "outputs": [
    {
     "name": "stdout",
     "output_type": "stream",
     "text": [
      "['C:\\\\Users\\\\ehudb\\\\OneDrive\\\\Desktop\\\\pyMagicStat', 'C:\\\\Program Files\\\\WindowsApps\\\\PythonSoftwareFoundation.Python.3.13_3.13.752.0_x64__qbz5n2kfra8p0\\\\python313.zip', 'C:\\\\Program Files\\\\WindowsApps\\\\PythonSoftwareFoundation.Python.3.13_3.13.752.0_x64__qbz5n2kfra8p0\\\\DLLs', 'C:\\\\Program Files\\\\WindowsApps\\\\PythonSoftwareFoundation.Python.3.13_3.13.752.0_x64__qbz5n2kfra8p0\\\\Lib', 'C:\\\\Program Files\\\\WindowsApps\\\\PythonSoftwareFoundation.Python.3.13_3.13.752.0_x64__qbz5n2kfra8p0', '', 'C:\\\\Users\\\\ehudb\\\\AppData\\\\Local\\\\Packages\\\\PythonSoftwareFoundation.Python.3.13_qbz5n2kfra8p0\\\\LocalCache\\\\local-packages\\\\Python313\\\\site-packages', 'C:\\\\Users\\\\ehudb\\\\AppData\\\\Local\\\\Packages\\\\PythonSoftwareFoundation.Python.3.13_qbz5n2kfra8p0\\\\LocalCache\\\\local-packages\\\\Python313\\\\site-packages\\\\win32', 'C:\\\\Users\\\\ehudb\\\\AppData\\\\Local\\\\Packages\\\\PythonSoftwareFoundation.Python.3.13_qbz5n2kfra8p0\\\\LocalCache\\\\local-packages\\\\Python313\\\\site-packages\\\\win32\\\\lib', 'C:\\\\Users\\\\ehudb\\\\AppData\\\\Local\\\\Packages\\\\PythonSoftwareFoundation.Python.3.13_qbz5n2kfra8p0\\\\LocalCache\\\\local-packages\\\\Python313\\\\site-packages\\\\Pythonwin', 'C:\\\\Program Files\\\\WindowsApps\\\\PythonSoftwareFoundation.Python.3.13_3.13.752.0_x64__qbz5n2kfra8p0\\\\Lib\\\\site-packages', 'C:\\\\Users\\\\ehudb\\\\OneDrive\\\\Desktop\\\\pyMagicStat\\\\pyMagicStat']\n"
     ]
    }
   ],
   "source": [
    "import sys\n",
    "print(sys.path)"
   ]
  },
  {
   "cell_type": "code",
   "execution_count": 7,
   "metadata": {},
   "outputs": [],
   "source": [
    "\n",
    "\n",
    "def normal_ci_mean(data, confidence=0.95):\n",
    "    n = len(data)\n",
    "    mean = np.mean(data)\n",
    "    stderr = np.std(data, ddof=1) / np.sqrt(n)\n",
    "    margin = stderr * stats.t.ppf((1 + confidence) / 2., n-1)\n",
    "    return mean - margin, mean + margin\n",
    "\n",
    "def bootstrap_ci(data, func=np.mean, confidence=0.95, n_bootstraps=1000):\n",
    "    bootstraps = np.random.choice(data, (n_bootstraps, len(data)), replace=True)\n",
    "    stat = np.array([func(sample) for sample in bootstraps])\n",
    "    lower = np.percentile(stat, (1-confidence)/2*100)\n",
    "    upper = np.percentile(stat, (1+confidence)/2*100)\n",
    "    return lower, upper\n",
    "\n",
    "def audit_precision(data, n_bootstraps=1000, confidence=0.95):\n",
    "    results = {\n",
    "        'mean': {'normal': {}, 'bootstrap': {}},\n",
    "        'variance': {'normal': {}, 'bootstrap': {}},\n",
    "        'proportion': {'normal': {}, 'bootstrap': {}},\n",
    "        'median': {'normal': {}, 'bootstrap': {}}\n",
    "    }\n",
    "    \n",
    "    # Media\n",
    "    results['mean']['normal']['ci'] = normal_ci_mean(data, confidence)\n",
    "    results['mean']['bootstrap']['ci'] = bootstrap_ci(data, np.mean, confidence, n_bootstraps)\n",
    "    results['mean']['actual'] = np.mean(data)\n",
    "    \n",
    "    # Varianza\n",
    "    variance_normal = np.var(data, ddof=1)\n",
    "    ci_variance = (variance_normal - 1.96*np.sqrt(2*variance_normal**2/(len(data)-1)),\n",
    "                   variance_normal + 1.96*np.sqrt(2*variance_normal**2/(len(data)-1)))\n",
    "    results['variance']['normal']['ci'] = ci_variance\n",
    "    results['variance']['bootstrap']['ci'] = bootstrap_ci(data, np.var, confidence, n_bootstraps)\n",
    "    results['variance']['actual'] = variance_normal\n",
    "    \n",
    "    # Proporción Poblacional\n",
    "    prop = np.mean(data > 0)\n",
    "    n = len(data)\n",
    "    se_prop = np.sqrt(prop * (1 - prop) / n)\n",
    "    z_score = stats.norm.ppf(1 - (1 - confidence) / 2)\n",
    "    ci_prop = (prop - z_score * se_prop, prop + z_score * se_prop)\n",
    "    results['proportion']['normal']['ci'] = ci_prop\n",
    "    results['proportion']['bootstrap']['ci'] = bootstrap_ci(data, lambda x: np.mean(x > 0), confidence, n_bootstraps)\n",
    "    results['proportion']['actual'] = prop\n",
    "    \n",
    "    # Mediana\n",
    "    results['median']['normal']['ci'] = (np.median(data) - 1.96 * np.std(data) / np.sqrt(len(data)),\n",
    "                                         np.median(data) + 1.96 * np.std(data) / np.sqrt(len(data)))\n",
    "    results['median']['bootstrap']['ci'] = bootstrap_ci(data, np.median, confidence, n_bootstraps)\n",
    "    results['median']['actual'] = np.median(data)\n",
    "    \n",
    "    return results\n",
    "\n",
    "# Generación de datos para diferentes distribuciones\n",
    "\n",
    "\n"
   ]
  },
  {
   "cell_type": "code",
   "execution_count": null,
   "metadata": {},
   "outputs": [],
   "source": []
  },
  {
   "cell_type": "markdown",
   "metadata": {},
   "source": [
    "<h3>Lognormal hay que solucionar la falta de presicion en la aproximacion a la normal.</h3>"
   ]
  },
  {
   "cell_type": "code",
   "execution_count": null,
   "metadata": {},
   "outputs": [
    {
     "data": {
      "text/plain": [
       "{'Binomial': {'Fit': np.True_,\n",
       "  'Normal_approx': np.False_,\n",
       "  'Methods': {'Test': 'Likelihod ratio (G2) test',\n",
       "   'p_value': np.float64(0.36997917758607257),\n",
       "   'chi_stat': np.float64(4.275689443113805),\n",
       "   'p_hat': np.float64(0.50212)}}}"
      ]
     },
     "execution_count": 8,
     "metadata": {},
     "output_type": "execute_result"
    }
   ],
   "source": [
    "z.type"
   ]
  },
  {
   "cell_type": "markdown",
   "metadata": {},
   "source": [
    "<h1>Esta Salida solo debe mostrar pruebas positivas de distribucion</h1>"
   ]
  },
  {
   "cell_type": "markdown",
   "metadata": {},
   "source": [
    "generar una funcion con el bloque anterior para que valide cada una de las instancias de binomial y se cierra ese modulo"
   ]
  },
  {
   "cell_type": "markdown",
   "metadata": {},
   "source": [
    "<H3>Poisson Distribution</H3>"
   ]
  },
  {
   "cell_type": "code",
   "execution_count": null,
   "metadata": {},
   "outputs": [
    {
     "name": "stdout",
     "output_type": "stream",
     "text": [
      "{'Poisson': {'Fit': np.True_, 'Normal_approx': np.False_, 'Methods': {'Test': 'Chi-square test', 'p_value': np.float64(0.2297729552899393), 'chi_stat': np.float64(12.892002103652466)}}}\n",
      "{'Poisson': {'Fit': np.True_, 'Normal_approx': np.False_, 'Methods': {'Test': 'Chi-square test', 'p_value': np.float64(0.2835326516044533), 'chi_stat': np.float64(41.427897584543175)}}}\n",
      "Poisson con aproximación a normal:\n"
     ]
    }
   ],
   "source": [
    "# Poisson sin aproximación a normal\n",
    "poisson_no_normal = np.random.poisson(lam=2, size=5000)\n",
    "#poisson_no_normal_results = audit_precision(poisson_no_normal)\n",
    "#print(\"Poisson sin aproximación a normal:\")\n",
    "#print(poisson_no_normal_results)\n",
    "m_0 = PoissonDistribution(poisson_no_normal)\n",
    "m_0.fit_test()\n",
    "m_0.normal_approximation()\n",
    "print(m_0.type)\n",
    "\n",
    "# Poisson con aproximación a normal\n",
    "poisson_normal_approx = np.random.poisson(lam=30, size=5000)\n",
    "n_0 = PoissonDistribution(poisson_normal_approx)\n",
    "n_0.fit_test()\n",
    "n_0.normal_approximation()\n",
    "print(n_0.type)\n",
    "\n",
    "print(\"Poisson con aproximación a normal:\")\n"
   ]
  },
  {
   "cell_type": "markdown",
   "metadata": {},
   "source": [
    "<h3>Poisson trabajar approx a normalidad </h3>"
   ]
  },
  {
   "cell_type": "code",
   "execution_count": null,
   "metadata": {},
   "outputs": [],
   "source": [
    "# Generar datos de prueba\n",
    "data_normal = np.random.normal(loc=0, scale=1, size=1000)\n",
    "data_binomial = np.random.binomial(n=10, p=0.5, size=1000)\n",
    "data_poisson = np.random.poisson(lam=5, size=1000)\n",
    "data_lognormal = np.random.lognormal(mean=0, sigma=1, size=1000)\n"
   ]
  },
  {
   "cell_type": "code",
   "execution_count": null,
   "metadata": {},
   "outputs": [
    {
     "data": {
      "image/png": "[encoded data removed]",
      "text/plain": [
       "<Figure size 1500x1000 with 4 Axes>"
      ]
     },
     "metadata": {},
     "output_type": "display_data"
    }
   ],
   "source": [
    "# Visualizar las distribuciones generadas\n",
    "plt.figure(figsize=(15, 10))\n",
    "\n",
    "plt.subplot(2, 2, 1)\n",
    "plt.hist(data_normal, bins=30, density=True, alpha=0.6, color='g')\n",
    "plt.title('Normal Distribution')\n",
    "\n",
    "plt.subplot(2, 2, 2)\n",
    "plt.hist(data_binomial, bins=30, density=True, alpha=0.6, color='b')\n",
    "plt.title('Binomial Distribution')\n",
    "\n",
    "plt.subplot(2, 2, 3)\n",
    "plt.hist(data_poisson, bins=30, density=True, alpha=0.6, color='r')\n",
    "plt.title('Poisson Distribution')\n",
    "\n",
    "plt.subplot(2, 2, 4)\n",
    "plt.hist(data_lognormal, bins=30, density=True, alpha=0.6, color='y')\n",
    "plt.title('Lognormal Distribution')\n",
    "\n",
    "plt.tight_layout()\n",
    "plt.show()\n"
   ]
  },
  {
   "cell_type": "code",
   "execution_count": null,
   "metadata": {},
   "outputs": [],
   "source": [
    "# Visualizar las distribuciones generadas\n",
    "plt.figure(figsize=(15, 10))\n",
    "\n",
    "plt.subplot(2, 2, 1)\n",
    "plt.hist(data_normal, bins=30, density=True, alpha=0.6, color='g')\n",
    "plt.title('Normal Distribution')\n",
    "\n",
    "plt.subplot(2, 2, 2)\n",
    "plt.hist(data_binomial, bins=30, density=True, alpha=0.6, color='b')\n",
    "plt.title('Binomial Distribution')\n",
    "\n",
    "plt.subplot(2, 2, 3)\n",
    "plt.hist(data_poisson, bins=30, density=True, alpha=0.6, color='r')\n",
    "plt.title('Poisson Distribution')\n",
    "\n",
    "plt.subplot(2, 2, 4)\n",
    "plt.hist(data_lognormal, bins=30, density=True, alpha=0.6, color='y')\n",
    "plt.title('Lognormal Distribution')\n",
    "\n",
    "plt.tight_layout()\n",
    "plt.show()\n"
   ]
  },
  {
   "cell_type": "code",
   "execution_count": 10,
   "metadata": {},
   "outputs": [
    {
     "data": {
      "image/png": "[encoded data removed]",
      "text/plain": [
       "<Figure size 640x480 with 1 Axes>"
      ]
     },
     "metadata": {},
     "output_type": "display_data"
    }
   ],
   "source": [
    ">>> a, m = 3., 2.  # shape and mode\n",
    ">>> s = (np.random.pareto(a, 1000) + 1) * m\n",
    "#Display the histogram of the samples, along with the probability density function:\n",
    "\n",
    ">>> import matplotlib.pyplot as plt\n",
    ">>> count, bins, _ = plt.hist(s, 100, density=True)\n",
    ">>> fit = a*m**a / bins**(a+1)\n",
    ">>> plt.plot(bins, max(count)*fit/max(fit), linewidth=2, color='r')\n",
    ">>> plt.show()"
   ]
  },
  {
   "cell_type": "code",
   "execution_count": 11,
   "metadata": {},
   "outputs": [
    {
     "name": "stdout",
     "output_type": "stream",
     "text": [
      "{}\n",
      "-0.3696522736371217\n",
      "3.0\n",
      "{'chi2': np.float64(2.84176722956182), 'p_value': np.float64(0.8992439925532346)}\n",
      "False\n",
      "{'Poisson': np.True_, 'goodness_of_fit': {'chi2': np.float64(2.84176722956182), 'p_value': np.float64(0.8992439925532346)}}\n"
     ]
    }
   ],
   "source": [
    "# cambiar nombre de la clase a singular ! Distribution\n",
    "data = Distribution(np.random.poisson(lam=3, size=100))\n",
    "print(data.type)\n",
    "print(data.kurtosis)\n",
    "print(data.median)\n",
    "\n",
    "poisson_test = PoissonDistribution(data)\n",
    "# creo que este metodo deberia llamarse desde el Init y si la funcion da false que rechace la instancia, en test de bondad de ajuste masivos ahorrara estar instanciando inecesariamente \n",
    "poisson_test.validate_data()\n",
    "# no hay criterio unificado , en todas las clases deberiamos llamar nombres de metodos iguales para que sea mas facil de usar .fit_test()\n",
    "print(poisson_test.evaluate_goodness_of_fit())\n",
    "print(poisson_test.evaluate_normal_approximation())\n",
    "print(data.type)\n",
    "\n",
    "# Falta Implementar test de approximacion normal \n",
    "del data"
   ]
  },
  {
   "cell_type": "code",
   "execution_count": 12,
   "metadata": {},
   "outputs": [
    {
     "name": "stdout",
     "output_type": "stream",
     "text": [
      "{}\n",
      "-0.6411506369905182\n",
      "{}\n",
      "{'KS': {'statistic': np.float64(0.055568752620089645), 'p_value': np.float64(0.8999102345010168)}, 'Shapiro': {'statistic': np.float64(0.9815922288286644), 'p_value': np.float64(0.17655001613455068)}, \"D'Agostino\": {'statistic': np.float64(3.4139309290140614), 'p_value': np.float64(0.18141546987004542)}, 'Anderson': {'statistic': np.float64(0.4874893666513884), 'critical_values': [0.555, 0.632, 0.759, 0.885, 1.053], 'significance_levels': [15.0, 10.0, 5.0, 2.5, 1.0]}, 'QQ': {'slope': np.float64(0.9928172501334525), 'intercept': np.float64(0.03491158670390188), 'p_value_slope': np.float64(0.5409097584029574), 'p_value_intercept': np.float64(0.003004070014518412)}}\n",
      "{'KS': 0.2, 'Shapiro': 0.2, \"D'Agostino\": 0.2, 'Anderson': 0.3, 'QQ': 0.1}\n",
      "{'Normal': np.True_, 'normality_results': {'KS': {'statistic': np.float64(0.055568752620089645), 'p_value': np.float64(0.8999102345010168)}, 'Shapiro': {'statistic': np.float64(0.9815922288286644), 'p_value': np.float64(0.17655001613455068)}, \"D'Agostino\": {'statistic': np.float64(3.4139309290140614), 'p_value': np.float64(0.18141546987004542)}, 'Anderson': {'statistic': np.float64(0.4874893666513884), 'critical_values': [0.555, 0.632, 0.759, 0.885, 1.053], 'significance_levels': [15.0, 10.0, 5.0, 2.5, 1.0]}, 'QQ': {'slope': np.float64(0.9928172501334525), 'intercept': np.float64(0.03491158670390188), 'p_value_slope': np.float64(0.5409097584029574), 'p_value_intercept': np.float64(0.003004070014518412)}}}\n"
     ]
    }
   ],
   "source": [
    "data = Distribution(np.random.normal(loc=0, scale=1, size=100))\n",
    "print(data.type)\n",
    "print(data.kurtosis)\n",
    "normal_data = NormalDistribution(data)\n",
    "print(data.type)\n",
    "# unificar nombre de metodo \n",
    "print(normal_data.evaluate_normality())\n",
    "print(normal_data.assign_weights())\n",
    "# demasiada info no necesaria , data.type deberia responder implementando output_format from utils.py\n",
    "print(data.type)\n",
    "\n"
   ]
  },
  {
   "cell_type": "code",
   "execution_count": 13,
   "metadata": {},
   "outputs": [
    {
     "name": "stdout",
     "output_type": "stream",
     "text": [
      "{}\n",
      "{'KS': {'statistic': np.float64(0.04663193643905381), 'p_value': np.float64(0.9744885833452397)}, 'Shapiro': {'statistic': np.float64(0.9926389285911027), 'p_value': np.float64(0.8653540949467418)}, \"D'Agostino\": {'statistic': np.float64(0.47084070426072594), 'p_value': np.float64(0.7902386013234249)}, 'Anderson': {'statistic': np.float64(0.2518311817876224), 'critical_values': [0.555, 0.632, 0.759, 0.885, 1.053], 'significance_levels': [15.0, 10.0, 5.0, 2.5, 1.0]}, 'QQ': {'slope': np.float64(1.0915103899467054), 'intercept': np.float64(0.18239352189576888), 'p_value_slope': np.float64(3.774758283725532e-15), 'p_value_intercept': np.float64(0.0)}}\n",
      "{'KS': 0.2, 'Shapiro': 0.2, \"D'Agostino\": 0.2, 'Anderson': 0.3, 'QQ': 0.1}\n",
      "{'Lognormal': True, 'normality_log_results': {'KS': {'statistic': np.float64(0.04663193643905381), 'p_value': np.float64(0.9744885833452397)}, 'Shapiro': {'statistic': np.float64(0.9926389285911027), 'p_value': np.float64(0.8653540949467418)}, \"D'Agostino\": {'statistic': np.float64(0.47084070426072594), 'p_value': np.float64(0.7902386013234249)}, 'Anderson': {'statistic': np.float64(0.2518311817876224), 'critical_values': [0.555, 0.632, 0.759, 0.885, 1.053], 'significance_levels': [15.0, 10.0, 5.0, 2.5, 1.0]}, 'QQ': {'slope': np.float64(1.0915103899467054), 'intercept': np.float64(0.18239352189576888), 'p_value_slope': np.float64(3.774758283725532e-15), 'p_value_intercept': np.float64(0.0)}}}\n"
     ]
    }
   ],
   "source": [
    "data_lognorm = Distribution(np.random.lognormal(mean=0, sigma=1, size=100))\n",
    "lognorm_data = LognormalDistribution(data_lognorm)\n",
    "print(data_lognorm.type)\n",
    "print(lognorm_data.evaluate_normality())\n",
    "print(lognorm_data.assign_weights())\n",
    "print(data_lognorm.type)\n"
   ]
  },
  {
   "cell_type": "code",
   "execution_count": 14,
   "metadata": {},
   "outputs": [
    {
     "name": "stdout",
     "output_type": "stream",
     "text": [
      "Bootstrap Confidence Interval: {'lb': np.float64(5.988967622935602), 'ub': np.float64(6.000049821431364)}\n",
      "[7.9171473  5.9903546  5.51035564 ... 6.01380324 6.64773867 6.53515075]\n",
      "5.994474990603419\n",
      "Lower Bound: 5.988967622935602\n",
      "Probabilidad de que 7.5 esté dentro del intervalo: 0.9500\n",
      "###########################################################\n",
      "Bootstrap Confidence Interval: {'lb': np.float64(5.986823575180848), 'ub': np.float64(6.000462174083211)}\n",
      "mediana muestral5.993767035711932\n",
      "#####################################################\n",
      "Bootstrap Confidence Interval: {'lb': np.float64(3.983749256561429), 'ub': np.float64(4.015069865543174)}\n",
      "varianza muestral4.0000215167611115\n",
      "#####################################################\n"
     ]
    }
   ],
   "source": [
    "from pyMagicStat.Classes.nonParametricHTest import BootstrapMeanCI\n",
    "\n",
    "data = np.random.normal(6, 2, 500000)\n",
    "bootstrap_ci = BootstrapMeanCI(data)\n",
    "interval = bootstrap_ci.calculate_interval()\n",
    "print(\"Bootstrap Confidence Interval:\", interval)\n",
    "print(data)\n",
    "print(data.mean())\n",
    "print(f\"Lower Bound: {interval['lb']}\")\n",
    "prob = bootstrap_ci.probability_in_interval(np.median(data))\n",
    "print(f\"Probabilidad de que 7.5 esté dentro del intervalo: {prob:.4f}\")\n",
    "print(\"###########################################################\")\n",
    "boostrapMedian = BootstrapMedianCI(data)\n",
    "interval_median = boostrapMedian.calculate_interval()\n",
    "print(\"Bootstrap Confidence Interval:\", interval_median)\n",
    "print(f\"mediana muestral{np.median(data)}\")\n",
    "\n",
    "print(\"#####################################################\")\n",
    "boostrapVariance = BootstrapVarianceCI(data)\n",
    "interval_variance = boostrapVariance.calculate_interval()\n",
    "print(\"Bootstrap Confidence Interval:\", interval_variance)\n",
    "print(f\"varianza muestral{np.var(data)}\")\n",
    "\n",
    "print(\"#####################################################\")\n"
   ]
  },
  {
   "cell_type": "markdown",
   "metadata": {},
   "source": [
    "<h1>hay que implementar numba ! </h1>"
   ]
  },
  {
   "cell_type": "code",
   "execution_count": 15,
   "metadata": {},
   "outputs": [
    {
     "name": "stdout",
     "output_type": "stream",
     "text": [
      "Tiempo SIN Numba: 7.3954 s\n",
      "Tiempo CON Numba: 2.8131 s\n"
     ]
    }
   ],
   "source": [
    "import numpy as np\n",
    "from numba import jit\n",
    "import time\n",
    "\n",
    "# Simulación de datos\n",
    "data = np.random.normal(6, 2, 100)\n",
    "resamples = 500000\n",
    "\n",
    "# Implementación normal (sin Numba)\n",
    "def bootstrap_normal(data, resamples):\n",
    "    sample_statistics = [np.mean(np.random.choice(data, size=len(data), replace=True)) for _ in range(resamples)]\n",
    "    return sample_statistics\n",
    "\n",
    "# Implementación optimizada con Numba\n",
    "@jit(nopython=True) \n",
    "def bootstrap_numba(data, resamples):\n",
    "    sample_statistics = np.empty(resamples)\n",
    "    n = len(data)\n",
    "    for i in range(resamples):\n",
    "        sample = np.random.choice(data, size=n, replace=True)\n",
    "        sample_statistics[i] = np.mean(sample)\n",
    "    return sample_statistics\n",
    "\n",
    "# Medir tiempos\n",
    "start_time = time.time()\n",
    "bootstrap_normal(data, resamples)\n",
    "print(f\"Tiempo SIN Numba: {time.time() - start_time:.4f} s\")\n",
    "\n",
    "start_time = time.time()\n",
    "bootstrap_numba(data, resamples)\n",
    "print(f\"Tiempo CON Numba: {time.time() - start_time:.4f} s\")\n"
   ]
  },
  {
   "cell_type": "markdown",
   "metadata": {},
   "source": [
    "<h2>NO BORRR IMPORTANTE PARA OFFICE </h2>"
   ]
  },
  {
   "cell_type": "code",
   "execution_count": 1,
   "metadata": {},
   "outputs": [
    {
     "name": "stdout",
     "output_type": "stream",
     "text": [
      "Tamaño original: 98\n",
      "Tamaño después de eliminar outliers: 95\n",
      "Valores filtrados: {np.float64(50.0), np.float64(-30.0), np.float64(100.0)}\n"
     ]
    }
   ],
   "source": [
    "import numpy as np\n",
    "\n",
    "# Simulación de datos con algunos outliers\n",
    "data = np.concatenate([np.random.normal(6, 2, 95), np.array([50, -30, 100])])\n",
    "\n",
    "# Método IQR para eliminar outliers\n",
    "q1, q3 = np.percentile(data, [25, 75])\n",
    "iqr = q3 - q1\n",
    "lower_bound = q1 - 1.5 * iqr\n",
    "upper_bound = q3 + 1.5 * iqr\n",
    "\n",
    "# Filtrar datos sin outliers\n",
    "filtered_data = data[(data >= lower_bound) & (data <= upper_bound)]\n",
    "\n",
    "print(f\"Tamaño original: {len(data)}\")\n",
    "print(f\"Tamaño después de eliminar outliers: {len(filtered_data)}\")\n",
    "print(f\"Valores filtrados: {set(data) - set(filtered_data)}\")\n"
   ]
  },
  {
   "cell_type": "markdown",
   "metadata": {},
   "source": [
    "<h1>Caso completo NonParametricHTest::BootstrapConfidenceIntervals</h1>"
   ]
  },
  {
   "cell_type": "code",
   "execution_count": 59,
   "metadata": {},
   "outputs": [
    {
     "name": "stdout",
     "output_type": "stream",
     "text": [
      "Porcentaje de cobertura del intervalo de la media: 93.82%\n",
      "Porcentaje de cobertura del intervalo de la mediana: 94.26%\n",
      "Porcentaje de cobertura del intervalo de la varianza: 86.90%\n",
      "\n",
      "Longitud promedio del intervalo para la media: 0.6981\n",
      "Longitud promedio del intervalo para la mediana: 0.8685\n",
      "Longitud promedio del intervalo para la varianza: 0.8975\n"
     ]
    },
    {
     "data": {
      "image/png": "[encoded data removed]",
      "text/plain": [
       "<Figure size 1800x500 with 3 Axes>"
      ]
     },
     "metadata": {},
     "output_type": "display_data"
    }
   ],
   "source": [
    "import numpy as np\n",
    "import matplotlib.pyplot as plt\n",
    " # Asegúrate de tener este módulo en tu path\n",
    "\n",
    "# Parámetros de la simulación\n",
    "true_mean = 5.0           # Valor verdadero de la media y la mediana (para una normal simétrica)\n",
    "true_std = 1.0            # Desviación estándar\n",
    "true_variance = true_std**2  # Varianza verdadera\n",
    "sample_size = 30          # Tamaño de la muestra en cada simulación\n",
    "n_simulations = 10000      # Número de simulaciones\n",
    "alpha = 0.05              # Nivel de significancia para un intervalo del 95%\n",
    "resamples = 1000          # Número de remuestreos en cada bootstrap\n",
    "\n",
    "# Variables para almacenar resultados\n",
    "coverage_mean = 0\n",
    "coverage_median = 0\n",
    "coverage_variance = 0\n",
    "\n",
    "interval_lengths_mean = []\n",
    "interval_lengths_median = []\n",
    "interval_lengths_variance = []\n",
    "\n",
    "for i in range(n_simulations):\n",
    "    # Generamos una muestra aleatoria de una distribución normal\n",
    "    sample = np.random.normal(loc=true_mean, scale=true_std, size=sample_size)\n",
    "    \n",
    "    # Intervalo bootstrap para la media\n",
    "    bs_mean = BootstrapMeanCI(sample, alpha=alpha, resamples=resamples)\n",
    "    ci_mean = bs_mean.calculate_interval()  # Se espera un dict con llaves 'lb' y 'ub'\n",
    "    if ci_mean['lb'] <= true_mean <= ci_mean['ub']:\n",
    "        coverage_mean += 1\n",
    "    interval_lengths_mean.append(ci_mean['ub'] - ci_mean['lb'])\n",
    "    \n",
    "    # Intervalo bootstrap para la mediana\n",
    "    bs_median = BootstrapMedianCI(sample, alpha=alpha, resamples=resamples)\n",
    "    ci_median = bs_median.calculate_interval()\n",
    "    # Para una normal simétrica, la mediana es igual a la media\n",
    "    if ci_median['lb'] <= true_mean <= ci_median['ub']:\n",
    "        coverage_median += 1\n",
    "    interval_lengths_median.append(ci_median['ub'] - ci_median['lb'])\n",
    "    \n",
    "    # Intervalo bootstrap para la varianza\n",
    "    bs_variance = BootstrapVarianceCI(sample, alpha=alpha, resamples=resamples)\n",
    "    ci_variance = bs_variance.calculate_interval()\n",
    "    if ci_variance['lb'] <= true_variance <= ci_variance['ub']:\n",
    "        coverage_variance += 1\n",
    "    interval_lengths_variance.append(ci_variance['ub'] - ci_variance['lb'])\n",
    "\n",
    "# Calcular la cobertura en porcentaje\n",
    "coverage_mean_pct = (coverage_mean / n_simulations) * 100\n",
    "coverage_median_pct = (coverage_median / n_simulations) * 100\n",
    "coverage_variance_pct = (coverage_variance / n_simulations) * 100\n",
    "\n",
    "print(f\"Porcentaje de cobertura del intervalo de la media: {coverage_mean_pct:.2f}%\")\n",
    "print(f\"Porcentaje de cobertura del intervalo de la mediana: {coverage_median_pct:.2f}%\")\n",
    "print(f\"Porcentaje de cobertura del intervalo de la varianza: {coverage_variance_pct:.2f}%\\n\")\n",
    "\n",
    "print(f\"Longitud promedio del intervalo para la media: {np.mean(interval_lengths_mean):.4f}\")\n",
    "print(f\"Longitud promedio del intervalo para la mediana: {np.mean(interval_lengths_median):.4f}\")\n",
    "print(f\"Longitud promedio del intervalo para la varianza: {np.mean(interval_lengths_variance):.4f}\")\n",
    "\n",
    "# Visualización de histogramas de las longitudes de los intervalos\n",
    "fig, axes = plt.subplots(1, 3, figsize=(18, 5))\n",
    "\n",
    "axes[0].hist(interval_lengths_mean, bins=30, edgecolor='black')\n",
    "axes[0].set_title(\"Longitudes del CI para la media\")\n",
    "axes[0].set_xlabel(\"Longitud del intervalo\")\n",
    "axes[0].set_ylabel(\"Frecuencia\")\n",
    "\n",
    "axes[1].hist(interval_lengths_median, bins=30, edgecolor='black')\n",
    "axes[1].set_title(\"Longitudes del CI para la mediana\")\n",
    "axes[1].set_xlabel(\"Longitud del intervalo\")\n",
    "axes[1].set_ylabel(\"Frecuencia\")\n",
    "\n",
    "axes[2].hist(interval_lengths_variance, bins=30, edgecolor='black')\n",
    "axes[2].set_title(\"Longitudes del CI para la varianza\")\n",
    "axes[2].set_xlabel(\"Longitud del intervalo\")\n",
    "axes[2].set_ylabel(\"Frecuencia\")\n",
    "\n",
    "plt.tight_layout()\n",
    "plt.show()\n"
   ]
  },
  {
   "cell_type": "code",
   "execution_count": 61,
   "metadata": {},
   "outputs": [
    {
     "name": "stdout",
     "output_type": "stream",
     "text": [
      "    sample_size  resamples  alpha  coverage_mean  coverage_median  \\\n",
      "0            30        100   0.01           97.0             97.4   \n",
      "1            30        100   0.05           90.9             92.5   \n",
      "2            30        100   0.10           85.6             88.6   \n",
      "3            30       1000   0.01           98.3             98.4   \n",
      "4            30       1000   0.05           93.4             94.8   \n",
      "5            30       1000   0.10           88.3             89.3   \n",
      "6            30       5000   0.01           98.4             98.6   \n",
      "7            30       5000   0.05           93.9             93.9   \n",
      "8            30       5000   0.10           89.2             88.5   \n",
      "9            30      10000   0.01           98.8             98.9   \n",
      "10           30      10000   0.05           93.5             93.3   \n",
      "11           30      10000   0.10           88.2             90.0   \n",
      "12          100        100   0.01           97.8             98.1   \n",
      "13          100        100   0.05           93.9             94.8   \n",
      "14          100        100   0.10           88.9             90.2   \n",
      "15          100       1000   0.01           99.2             99.0   \n",
      "16          100       1000   0.05           94.5             94.8   \n",
      "17          100       1000   0.10           90.2             89.6   \n",
      "18          100       5000   0.01           98.5             98.8   \n",
      "19          100       5000   0.05           93.4             95.7   \n",
      "20          100       5000   0.10           88.8             88.9   \n",
      "21          100      10000   0.01           98.8             99.2   \n",
      "22          100      10000   0.05           94.9             94.9   \n",
      "23          100      10000   0.10           90.7             89.2   \n",
      "24          300        100   0.01           98.3             97.8   \n",
      "25          300        100   0.05           95.1             94.7   \n",
      "26          300        100   0.10           88.3             89.1   \n",
      "27          300       1000   0.01           98.4             98.6   \n",
      "28          300       1000   0.05           95.1             93.5   \n",
      "29          300       1000   0.10           90.0             90.4   \n",
      "30          300       5000   0.01           99.0             99.4   \n",
      "31          300       5000   0.05           94.8             94.3   \n",
      "32          300       5000   0.10           89.7             90.0   \n",
      "33          300      10000   0.01           98.4             98.5   \n",
      "34          300      10000   0.05           94.5             95.4   \n",
      "35          300      10000   0.10           89.5             88.4   \n",
      "\n",
      "    coverage_variance  len_mean  len_median  len_variance  \n",
      "0                90.4  0.887264    1.125208      1.124037  \n",
      "1                85.1  0.691546    0.861673      0.889543  \n",
      "2                80.6  0.581337    0.726648      0.750709  \n",
      "3                92.6  0.913229    1.137563      1.166895  \n",
      "4                86.2  0.698372    0.876332      0.900600  \n",
      "5                82.3  0.586561    0.722520      0.761984  \n",
      "6                94.3  0.920075    1.155234      1.179215  \n",
      "7                89.8  0.701226    0.867712      0.891969  \n",
      "8                82.3  0.585474    0.728719      0.759115  \n",
      "9                93.1  0.917488    1.160588      1.170905  \n",
      "10               85.8  0.693913    0.855591      0.888365  \n",
      "11               82.3  0.585810    0.735529      0.749933  \n",
      "12               96.0  0.495625    0.623699      0.684791  \n",
      "13               90.6  0.387093    0.484384      0.527953  \n",
      "14               88.0  0.326257    0.407194      0.447630  \n",
      "15               97.2  0.511497    0.644406      0.701233  \n",
      "16               92.6  0.389936    0.487923      0.535569  \n",
      "17               87.1  0.326600    0.409094      0.447633  \n",
      "18               97.9  0.510506    0.640553      0.699494  \n",
      "19               92.4  0.388055    0.488900      0.529570  \n",
      "20               86.9  0.326743    0.404430      0.449145  \n",
      "21               97.8  0.510027    0.641788      0.696862  \n",
      "22               91.5  0.388560    0.487305      0.534032  \n",
      "23               86.4  0.327098    0.404471      0.451040  \n",
      "24               98.3  0.287042    0.363037      0.400612  \n",
      "25               92.5  0.224028    0.282456      0.314978  \n",
      "26               88.4  0.188225    0.237915      0.263805  \n",
      "27               98.0  0.296086    0.372380      0.414711  \n",
      "28               94.1  0.225617    0.281966      0.315140  \n",
      "29               89.0  0.190027    0.237440      0.264889  \n",
      "30               98.7  0.296150    0.369843      0.415281  \n",
      "31               92.5  0.225911    0.283185      0.316175  \n",
      "32               89.9  0.189558    0.234798      0.265317  \n",
      "33               97.8  0.296256    0.373240      0.414994  \n",
      "34               94.5  0.225581    0.283646      0.316430  \n",
      "35               87.5  0.189529    0.238880      0.264983  \n"
     ]
    },
    {
     "data": {
      "image/png": "[encoded data removed]",
      "text/plain": [
       "<Figure size 800x500 with 1 Axes>"
      ]
     },
     "metadata": {},
     "output_type": "display_data"
    }
   ],
   "source": [
    "import numpy as np\n",
    "import pandas as pd\n",
    "import itertools\n",
    "import matplotlib.pyplot as plt\n",
    "# from nonParametricHTest import BootstrapMeanCI, BootstrapMedianCI, BootstrapVarianceCI\n",
    "\n",
    "# Factores a variar en tu diseño\n",
    "sample_sizes = [30, 100, 300]\n",
    "resamples_list = [100, 1000, 5000, 10000]  # Incluimos 10,000 aquí\n",
    "alphas = [0.01, 0.05, 0.1]\n",
    "n_simulations = 1000  # Ajusta según tu tolerancia de tiempo de cómputo\n",
    "\n",
    "# Parámetros de la distribución simulada\n",
    "true_mean = 5.0\n",
    "true_std = 1.0\n",
    "true_variance = true_std ** 2\n",
    "\n",
    "# Lista para guardar resultados\n",
    "results = []\n",
    "\n",
    "for (sample_size, resamples, alpha) in itertools.product(sample_sizes, resamples_list, alphas):\n",
    "    coverage_mean = 0\n",
    "    coverage_median = 0\n",
    "    coverage_variance = 0\n",
    "    \n",
    "    interval_lengths_mean = []\n",
    "    interval_lengths_median = []\n",
    "    interval_lengths_variance = []\n",
    "    \n",
    "    for _ in range(n_simulations):\n",
    "        # Generar la muestra\n",
    "        sample = np.random.normal(loc=true_mean, scale=true_std, size=sample_size)\n",
    "        \n",
    "        # Bootstrap para la media\n",
    "        bs_mean = BootstrapMeanCI(sample, alpha=alpha, resamples=resamples)\n",
    "        ci_mean = bs_mean.calculate_interval()\n",
    "        if ci_mean['lb'] <= true_mean <= ci_mean['ub']:\n",
    "            coverage_mean += 1\n",
    "        interval_lengths_mean.append(ci_mean['ub'] - ci_mean['lb'])\n",
    "        \n",
    "        # Bootstrap para la mediana\n",
    "        bs_median = BootstrapMedianCI(sample, alpha=alpha, resamples=resamples)\n",
    "        ci_median = bs_median.calculate_interval()\n",
    "        if ci_median['lb'] <= true_mean <= ci_median['ub']:\n",
    "            coverage_median += 1\n",
    "        interval_lengths_median.append(ci_median['ub'] - ci_median['lb'])\n",
    "        \n",
    "        # Bootstrap para la varianza\n",
    "        bs_variance = BootstrapVarianceCI(sample, alpha=alpha, resamples=resamples)\n",
    "        ci_variance = bs_variance.calculate_interval()\n",
    "        if ci_variance['lb'] <= true_variance <= ci_variance['ub']:\n",
    "            coverage_variance += 1\n",
    "        interval_lengths_variance.append(ci_variance['ub'] - ci_variance['lb'])\n",
    "    \n",
    "    # Calcular métricas\n",
    "    coverage_mean_pct = (coverage_mean / n_simulations) * 100\n",
    "    coverage_median_pct = (coverage_median / n_simulations) * 100\n",
    "    coverage_variance_pct = (coverage_variance / n_simulations) * 100\n",
    "    \n",
    "    avg_len_mean = np.mean(interval_lengths_mean)\n",
    "    avg_len_median = np.mean(interval_lengths_median)\n",
    "    avg_len_variance = np.mean(interval_lengths_variance)\n",
    "    \n",
    "    # Guardar en la lista de resultados\n",
    "    results.append({\n",
    "        'sample_size': sample_size,\n",
    "        'resamples': resamples,\n",
    "        'alpha': alpha,\n",
    "        'coverage_mean': coverage_mean_pct,\n",
    "        'coverage_median': coverage_median_pct,\n",
    "        'coverage_variance': coverage_variance_pct,\n",
    "        'len_mean': avg_len_mean,\n",
    "        'len_median': avg_len_median,\n",
    "        'len_variance': avg_len_variance\n",
    "    })\n",
    "\n",
    "df_results = pd.DataFrame(results)\n",
    "print(df_results)\n",
    "\n",
    "# Ejemplo de cómo podrías analizar o graficar un subset\n",
    "pivot_coverage_mean = df_results.pivot_table(values='coverage_mean', \n",
    "                                             index='resamples', \n",
    "                                             columns='sample_size')\n",
    "pivot_coverage_mean.plot(kind='bar', figsize=(8,5))\n",
    "plt.title('Cobertura de la Media (Bootstrap) según resamples y sample_size')\n",
    "plt.ylabel('Cobertura (%)')\n",
    "plt.show()\n"
   ]
  },
  {
   "cell_type": "code",
   "execution_count": 79,
   "metadata": {},
   "outputs": [
    {
     "data": {
      "image/png": "[encoded data removed]",
      "text/plain": [
       "<Figure size 640x480 with 1 Axes>"
      ]
     },
     "metadata": {},
     "output_type": "display_data"
    }
   ],
   "source": [
    "poisson_no_normal = np.random.exponential(scale=2, size=5000)\n",
    "poisson_test = BootstrapMedianCI(poisson_no_normal, alpha=0.05, resamples=10000)\n",
    "x = poisson_test.calculate_interval()\n",
    "plt.hist(poisson_test.data)\n",
    "plt.axvline(x=x['lb'], color='r', linestyle='--')\n",
    "plt.axvline(x=x['ub'], color='g', linestyle='--')\n",
    "plt.show()\n",
    "\n"
   ]
  },
  {
   "cell_type": "code",
   "execution_count": 83,
   "metadata": {},
   "outputs": [
    {
     "data": {
      "text/plain": [
       "{'lb': np.float64(0.952052443315855), 'ub': np.float64(1.0826643546089716)}"
      ]
     },
     "execution_count": 83,
     "metadata": {},
     "output_type": "execute_result"
    }
   ],
   "source": [
    "waibul = np.random.weibull(a=1, size=1000)\n",
    "waibul_test = BootstrapConfidenceIntervals(waibul, alpha=0.05, resamples=10000)\n",
    "mean = BootstrapMeanCI(waibul, alpha=0.05, resamples=10000)\n",
    "mean.calculate_interval()"
   ]
  },
  {
   "cell_type": "code",
   "execution_count": 90,
   "metadata": {},
   "outputs": [
    {
     "data": {
      "image/png": "[encoded data removed]",
      "text/plain": [
       "<Figure size 640x480 with 1 Axes>"
      ]
     },
     "metadata": {},
     "output_type": "display_data"
    },
    {
     "data": {
      "text/plain": [
       "{'lb': np.float64(0.6433276648738405), 'ub': np.float64(0.7608307720710855)}"
      ]
     },
     "execution_count": 90,
     "metadata": {},
     "output_type": "execute_result"
    }
   ],
   "source": [
    "waibul = np.random.weibull(a=1, size=1000)\n",
    "waibul_test = BootstrapConfidenceIntervals(waibul, alpha=0.05, resamples=10000)\n",
    "median = BootstrapMedianCI(waibul, alpha=0.05, resamples=10000)\n",
    "plt.hist(waibul.data)\n",
    "plt.show()\n",
    "median.calculate_interval()"
   ]
  },
  {
   "cell_type": "code",
   "execution_count": null,
   "metadata": {},
   "outputs": [],
   "source": []
  }
 ],
 "metadata": {
  "kernelspec": {
   "display_name": "Python 3",
   "language": "python",
   "name": "python3"
  },
  "language_info": {
   "codemirror_mode": {
    "name": "ipython",
    "version": 3
   },
   "file_extension": ".py",
   "mimetype": "text/x-python",
   "name": "python",
   "nbconvert_exporter": "python",
   "pygments_lexer": "ipython3",
   "version": "3.13.2"
  }
 },
 "nbformat": 4,
 "nbformat_minor": 2
}

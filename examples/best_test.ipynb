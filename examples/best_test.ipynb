{
 "cells": [
  {
   "cell_type": "code",
   "execution_count": 2,
   "metadata": {},
   "outputs": [
    {
     "name": "stdout",
     "output_type": "stream",
     "text": [
      "No se encontró caché para limpiar.\n"
     ]
    },
    {
     "ename": "ImportError",
     "evalue": "cannot import name 'BootstrapProportionCI' from 'pyMagicStat.Classes.nonParametricHTest' (C:\\Users\\ehudb\\OneDrive\\Desktop\\pyMagicStat\\pyMagicStat\\Classes\\nonParametricHTest.py)",
     "output_type": "error",
     "traceback": [
      "\u001b[1;31m---------------------------------------------------------------------------\u001b[0m",
      "\u001b[1;31mImportError\u001b[0m                               Traceback (most recent call last)",
      "Cell \u001b[1;32mIn[2], line 78\u001b[0m\n\u001b[0;32m     58\u001b[0m \u001b[38;5;28;01mfrom\u001b[39;00m\u001b[38;5;250m \u001b[39m\u001b[38;5;21;01mpyMagicStat\u001b[39;00m\u001b[38;5;21;01m.\u001b[39;00m\u001b[38;5;21;01mClasses\u001b[39;00m\u001b[38;5;21;01m.\u001b[39;00m\u001b[38;5;21;01mconfidence_intervals\u001b[39;00m\u001b[38;5;250m \u001b[39m\u001b[38;5;28;01mimport\u001b[39;00m (\n\u001b[0;32m     59\u001b[0m     ConfidenceIntervals,\n\u001b[0;32m     60\u001b[0m     NormalDistConfidenceIntervals,\n\u001b[1;32m   (...)\u001b[0m\n\u001b[0;32m     64\u001b[0m     \n\u001b[0;32m     65\u001b[0m )\n\u001b[0;32m     66\u001b[0m \u001b[38;5;28;01mfrom\u001b[39;00m\u001b[38;5;250m \u001b[39m\u001b[38;5;21;01mpyMagicStat\u001b[39;00m\u001b[38;5;21;01m.\u001b[39;00m\u001b[38;5;21;01mClasses\u001b[39;00m\u001b[38;5;21;01m.\u001b[39;00m\u001b[38;5;21;01mdistributions\u001b[39;00m\u001b[38;5;250m \u001b[39m\u001b[38;5;28;01mimport\u001b[39;00m (\n\u001b[0;32m     67\u001b[0m     \n\u001b[0;32m     68\u001b[0m     Distribution,\n\u001b[1;32m   (...)\u001b[0m\n\u001b[0;32m     75\u001b[0m     DiscreteDistributionValidator\n\u001b[0;32m     76\u001b[0m )\n\u001b[1;32m---> 78\u001b[0m \u001b[38;5;28;01mfrom\u001b[39;00m\u001b[38;5;250m \u001b[39m\u001b[38;5;21;01mpyMagicStat\u001b[39;00m\u001b[38;5;21;01m.\u001b[39;00m\u001b[38;5;21;01mClasses\u001b[39;00m\u001b[38;5;21;01m.\u001b[39;00m\u001b[38;5;21;01mnonParametricHTest\u001b[39;00m\u001b[38;5;250m \u001b[39m\u001b[38;5;28;01mimport\u001b[39;00m (\n\u001b[0;32m     79\u001b[0m     BootstrapConfidenceIntervals,\n\u001b[0;32m     80\u001b[0m     BootstrapMeanCI,\n\u001b[0;32m     81\u001b[0m     BootstrapMedianCI,\n\u001b[0;32m     82\u001b[0m     BootstrapVarianceCI,\n\u001b[0;32m     83\u001b[0m     BootstrapProportionCI,\n\u001b[0;32m     84\u001b[0m     NonParametricHTest\n\u001b[0;32m     85\u001b[0m )\n\u001b[0;32m     87\u001b[0m \u001b[38;5;28;01mfrom\u001b[39;00m\u001b[38;5;250m \u001b[39m\u001b[38;5;21;01mpyMagicStat\u001b[39;00m\u001b[38;5;21;01m.\u001b[39;00m\u001b[38;5;21;01mlib\u001b[39;00m\u001b[38;5;21;01m.\u001b[39;00m\u001b[38;5;21;01mutils\u001b[39;00m\u001b[38;5;250m \u001b[39m\u001b[38;5;28;01mimport\u001b[39;00m output_format, validate_non_nan\n\u001b[0;32m     90\u001b[0m \u001b[38;5;66;03m# Validación del entorno\u001b[39;00m\n",
      "\u001b[1;31mImportError\u001b[0m: cannot import name 'BootstrapProportionCI' from 'pyMagicStat.Classes.nonParametricHTest' (C:\\Users\\ehudb\\OneDrive\\Desktop\\pyMagicStat\\pyMagicStat\\Classes\\nonParametricHTest.py)"
     ]
    }
   ],
   "source": [
    "# Configuración inicial para cargar el proyecto y limpiar la caché\n",
    "import sys\n",
    "import os\n",
    "from importlib import reload\n",
    "import shutil\n",
    "import numpy as np\n",
    "from scipy import stats\n",
    "import matplotlib.pyplot as plt\n",
    "\n",
    "# Ruta al directorio raíz del proyecto\n",
    "PROJECT_ROOT = r'C:\\Users\\ehudb\\OneDrive\\Desktop\\pyMagicStat\\pyMagicStat'\n",
    "\n",
    "# Asegurarse de que el proyecto está en sys.path\n",
    "if PROJECT_ROOT not in sys.path:\n",
    "    sys.path.append(PROJECT_ROOT)\n",
    "\n",
    "# Ruta al directorio pyMagicStat\n",
    "PYMAGICSTAT_PATH = os.path.join(PROJECT_ROOT, 'pyMagicStat')\n",
    "\n",
    "# Limpiar caché de módulos\n",
    "def clean_pycache():\n",
    "    pycache_path = os.path.join(PYMAGICSTAT_PATH, '__pycache__')\n",
    "    if os.path.exists(pycache_path):\n",
    "        shutil.rmtree(pycache_path)\n",
    "        print(f\"Eliminado caché en: {pycache_path}\")\n",
    "    else:\n",
    "        print(\"No se encontró caché para limpiar.\")\n",
    "\n",
    "clean_pycache()\n",
    "\n",
    "# Limpiar módulos cargados previamente\n",
    "MODULES_TO_CLEAR = [\n",
    "    \"pyMagicStat.distributions\",\n",
    "    \"pyMagicStat.confidence_intervals\",\n",
    "    \"pyMagicStat.utils\",\n",
    "    \"pyMagicStat.distributionOrchestrator\",\n",
    "    \"pyMagicStat.nonParametricHTest\"\n",
    "]\n",
    "\n",
    "for module in MODULES_TO_CLEAR:\n",
    "    if module in sys.modules:\n",
    "        del sys.modules[module]\n",
    "\n",
    "# Importar módulos principales\n",
    "import pyMagicStat.lib.utils as utils\n",
    "import pyMagicStat.Classes.confidence_intervals as ci\n",
    "import pyMagicStat.Classes.distributions as dist\n",
    "import pyMagicStat.Classes.nonParametricHTest \n",
    "\n",
    "\n",
    "# Recargar módulos para reflejar cambios\n",
    "reload(ci)\n",
    "reload(dist)\n",
    "reload(utils)\n",
    "\n",
    "\n",
    "# Importar clases específicas necesarias\n",
    "from pyMagicStat.Classes.confidence_intervals import (\n",
    "    ConfidenceIntervals,\n",
    "    NormalDistConfidenceIntervals,\n",
    "    PopulationMeanCI,\n",
    "    PopulationProportionCI,\n",
    "    PopulationVarianceCI,\n",
    "    \n",
    ")\n",
    "from pyMagicStat.Classes.distributions import (\n",
    "    \n",
    "    Distribution,\n",
    "    NormalDistribution,\n",
    "    BinomialDistribution,\n",
    "    PoissonDistribution,\n",
    "    LognormalDistribution,\n",
    "    DistributionValidator,\n",
    "    ContinuousDistributionValidator,\n",
    "    DiscreteDistributionValidator\n",
    ")\n",
    "\n",
    "from pyMagicStat.Classes.nonParametricHTest import (\n",
    "    BootstrapConfidenceIntervals,\n",
    "    BootstrapMeanCI,\n",
    "    BootstrapMedianCI,\n",
    "    BootstrapVarianceCI,\n",
    "    BootstrapProportionCI,\n",
    "    NonParametricHTest\n",
    ")\n",
    "\n",
    "from pyMagicStat.lib.utils import output_format, validate_non_nan\n",
    " \n",
    "\n",
    "# Validación del entorno\n",
    "print(\"Módulos pyMagicStat cargados y listos para usar.\")\n"
   ]
  },
  {
   "cell_type": "code",
   "execution_count": 1,
   "metadata": {},
   "outputs": [
    {
     "ename": "NameError",
     "evalue": "name 'pd' is not defined",
     "output_type": "error",
     "traceback": [
      "\u001b[1;31m---------------------------------------------------------------------------\u001b[0m",
      "\u001b[1;31mNameError\u001b[0m                                 Traceback (most recent call last)",
      "Cell \u001b[1;32mIn[1], line 1\u001b[0m\n\u001b[1;32m----> 1\u001b[0m df \u001b[38;5;241m=\u001b[39m \u001b[43mpd\u001b[49m\u001b[38;5;241m.\u001b[39mread_excel(\u001b[38;5;124mr\u001b[39m\u001b[38;5;124m'\u001b[39m\u001b[38;5;124mC:\u001b[39m\u001b[38;5;124m\\\u001b[39m\u001b[38;5;124mUsers\u001b[39m\u001b[38;5;124m\\\u001b[39m\u001b[38;5;124mehudb\u001b[39m\u001b[38;5;124m\\\u001b[39m\u001b[38;5;124mOneDrive\u001b[39m\u001b[38;5;124m\\\u001b[39m\u001b[38;5;124mSuperStoreUS-2015 1.xlsx\u001b[39m\u001b[38;5;124m'\u001b[39m)\n",
      "\u001b[1;31mNameError\u001b[0m: name 'pd' is not defined"
     ]
    }
   ],
   "source": [
    "df = pd.read_excel(r'C:\\Users\\ehudb\\OneDrive\\SuperStoreUS-2015 1.xlsx')"
   ]
  }
 ],
 "metadata": {
  "kernelspec": {
   "display_name": "Python 3",
   "language": "python",
   "name": "python3"
  },
  "language_info": {
   "codemirror_mode": {
    "name": "ipython",
    "version": 3
   },
   "file_extension": ".py",
   "mimetype": "text/x-python",
   "name": "python",
   "nbconvert_exporter": "python",
   "pygments_lexer": "ipython3",
   "version": "3.13.2"
  }
 },
 "nbformat": 4,
 "nbformat_minor": 2
}
